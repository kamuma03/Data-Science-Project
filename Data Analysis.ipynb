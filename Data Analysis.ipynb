{
  "nbformat": 4,
  "nbformat_minor": 0,
  "metadata": {
    "kernelspec": {
      "name": "python3",
      "display_name": "Python 3"
    },
    "colab": {
      "name": "Data Analysis.ipynb",
      "provenance": [],
      "toc_visible": true
    }
  },
  "cells": [
    {
      "cell_type": "markdown",
      "metadata": {
        "id": "LY1diH_0s_cD"
      },
      "source": [
        "# Fraud Detection Explorotary Data Analysis of the Dataset\n",
        "\n"
      ]
    },
    {
      "cell_type": "code",
      "metadata": {
        "id": "Ob8MhVmms_cE",
        "outputId": "fadefd42-ca7f-48e9-e9ac-855df76b7a28",
        "colab": {
          "base_uri": "https://localhost:8080/",
          "height": 90
        }
      },
      "source": [
        "# Import of all the required libraries\n",
        "\n",
        "import numpy as np\n",
        "import pandas as pd\n",
        "import matplotlib.pyplot as plt\n",
        "import missingno as msno\n",
        "from plotly.subplots import make_subplots\n",
        "import plotly.graph_objects as go\n",
        "import plotly.express as px\n",
        "import statsmodels.formula.api as smf\n",
        "import statsmodels.api as sm\n",
        "import statsmodels.stats.api as sms\n",
        "from scipy import stats\n",
        "import seaborn as sns\n",
        "import pickle"
      ],
      "execution_count": 5,
      "outputs": [
        {
          "output_type": "stream",
          "text": [
            "/usr/local/lib/python3.6/dist-packages/statsmodels/tools/_testing.py:19: FutureWarning:\n",
            "\n",
            "pandas.util.testing is deprecated. Use the functions in the public API at pandas.testing instead.\n",
            "\n"
          ],
          "name": "stderr"
        }
      ]
    },
    {
      "cell_type": "markdown",
      "metadata": {
        "id": "3-Ry7EiTs_cK"
      },
      "source": [
        "## Import of Dataset\n",
        "\n",
        "Import of the datasets into Panda dataframe\n",
        "\n",
        "Initial modifications to add an ID and use it instead of the Time \n",
        "\n"
      ]
    },
    {
      "cell_type": "code",
      "metadata": {
        "id": "O2RxMqHnBqyX",
        "outputId": "ae410327-96c4-40bb-f023-863a62d1c4ac",
        "colab": {
          "base_uri": "https://localhost:8080/",
          "height": 35
        }
      },
      "source": [
        "# Connecting the Google drive with Colab\n",
        "from google.colab import drive\n",
        "drive.mount('/content/drive')"
      ],
      "execution_count": 6,
      "outputs": [
        {
          "output_type": "stream",
          "text": [
            "Mounted at /content/drive\n"
          ],
          "name": "stdout"
        }
      ]
    },
    {
      "cell_type": "code",
      "metadata": {
        "id": "rGY0LTIVs_cL",
        "outputId": "a450df30-6eca-4d65-daef-053e47ef2ffa",
        "colab": {
          "base_uri": "https://localhost:8080/",
          "height": 427
        }
      },
      "source": [
        "# Import of the train and test datasets into the Panda dataframe from Google drive \n",
        "# To load data from the local drive the location below can be changed accordingly\n",
        "\n",
        "cc_test_df = pd.read_csv(\"/content/drive/My Drive/Colab Notebooks/creditcard_test.csv\")\n",
        "cc_train_df = pd.read_csv(\"/content/drive/My Drive/Colab Notebooks/creditcard_train.csv\")\n",
        "\n",
        "cc_test_df"
      ],
      "execution_count": 7,
      "outputs": [
        {
          "output_type": "execute_result",
          "data": {
            "text/html": [
              "<div>\n",
              "<style scoped>\n",
              "    .dataframe tbody tr th:only-of-type {\n",
              "        vertical-align: middle;\n",
              "    }\n",
              "\n",
              "    .dataframe tbody tr th {\n",
              "        vertical-align: top;\n",
              "    }\n",
              "\n",
              "    .dataframe thead th {\n",
              "        text-align: right;\n",
              "    }\n",
              "</style>\n",
              "<table border=\"1\" class=\"dataframe\">\n",
              "  <thead>\n",
              "    <tr style=\"text-align: right;\">\n",
              "      <th></th>\n",
              "      <th>Time</th>\n",
              "      <th>V1</th>\n",
              "      <th>V2</th>\n",
              "      <th>V3</th>\n",
              "      <th>V4</th>\n",
              "      <th>V5</th>\n",
              "      <th>V6</th>\n",
              "      <th>V7</th>\n",
              "      <th>V8</th>\n",
              "      <th>V9</th>\n",
              "      <th>V10</th>\n",
              "      <th>V11</th>\n",
              "      <th>V12</th>\n",
              "      <th>V13</th>\n",
              "      <th>V14</th>\n",
              "      <th>V15</th>\n",
              "      <th>V16</th>\n",
              "      <th>V17</th>\n",
              "      <th>V18</th>\n",
              "      <th>V19</th>\n",
              "      <th>V20</th>\n",
              "      <th>V21</th>\n",
              "      <th>V22</th>\n",
              "      <th>V23</th>\n",
              "      <th>V24</th>\n",
              "      <th>V25</th>\n",
              "      <th>V26</th>\n",
              "      <th>V27</th>\n",
              "      <th>V28</th>\n",
              "      <th>Amount</th>\n",
              "      <th>Class</th>\n",
              "    </tr>\n",
              "  </thead>\n",
              "  <tbody>\n",
              "    <tr>\n",
              "      <th>0</th>\n",
              "      <td>71852.0</td>\n",
              "      <td>-0.584007</td>\n",
              "      <td>0.880079</td>\n",
              "      <td>1.320090</td>\n",
              "      <td>0.001509</td>\n",
              "      <td>0.292260</td>\n",
              "      <td>-0.990634</td>\n",
              "      <td>1.120755</td>\n",
              "      <td>-0.166826</td>\n",
              "      <td>-0.501695</td>\n",
              "      <td>-0.694423</td>\n",
              "      <td>-0.706512</td>\n",
              "      <td>-0.164179</td>\n",
              "      <td>-0.276469</td>\n",
              "      <td>0.284019</td>\n",
              "      <td>0.164088</td>\n",
              "      <td>0.265888</td>\n",
              "      <td>-0.739878</td>\n",
              "      <td>-0.034332</td>\n",
              "      <td>-1.077470</td>\n",
              "      <td>-0.106804</td>\n",
              "      <td>0.167209</td>\n",
              "      <td>0.361133</td>\n",
              "      <td>-0.125141</td>\n",
              "      <td>0.375231</td>\n",
              "      <td>0.029598</td>\n",
              "      <td>-0.559438</td>\n",
              "      <td>0.102098</td>\n",
              "      <td>0.144502</td>\n",
              "      <td>42.81</td>\n",
              "      <td>0</td>\n",
              "    </tr>\n",
              "    <tr>\n",
              "      <th>1</th>\n",
              "      <td>48336.0</td>\n",
              "      <td>1.326714</td>\n",
              "      <td>-0.823441</td>\n",
              "      <td>-0.127404</td>\n",
              "      <td>-0.979830</td>\n",
              "      <td>-0.625116</td>\n",
              "      <td>-0.104941</td>\n",
              "      <td>-0.636415</td>\n",
              "      <td>0.050208</td>\n",
              "      <td>-0.785860</td>\n",
              "      <td>0.815473</td>\n",
              "      <td>0.200606</td>\n",
              "      <td>-1.002079</td>\n",
              "      <td>-1.025594</td>\n",
              "      <td>0.271240</td>\n",
              "      <td>0.320012</td>\n",
              "      <td>1.751346</td>\n",
              "      <td>-0.362698</td>\n",
              "      <td>-0.350818</td>\n",
              "      <td>1.235828</td>\n",
              "      <td>0.164916</td>\n",
              "      <td>0.109578</td>\n",
              "      <td>-0.011447</td>\n",
              "      <td>-0.212676</td>\n",
              "      <td>-0.859332</td>\n",
              "      <td>0.507870</td>\n",
              "      <td>-0.199817</td>\n",
              "      <td>-0.021529</td>\n",
              "      <td>0.003230</td>\n",
              "      <td>75.00</td>\n",
              "      <td>0</td>\n",
              "    </tr>\n",
              "    <tr>\n",
              "      <th>2</th>\n",
              "      <td>166298.0</td>\n",
              "      <td>2.097691</td>\n",
              "      <td>-0.076097</td>\n",
              "      <td>-1.743719</td>\n",
              "      <td>-0.011746</td>\n",
              "      <td>0.597501</td>\n",
              "      <td>-0.332470</td>\n",
              "      <td>0.130716</td>\n",
              "      <td>-0.174237</td>\n",
              "      <td>0.383371</td>\n",
              "      <td>0.171848</td>\n",
              "      <td>0.110069</td>\n",
              "      <td>0.740958</td>\n",
              "      <td>0.344720</td>\n",
              "      <td>0.589561</td>\n",
              "      <td>0.147784</td>\n",
              "      <td>0.230686</td>\n",
              "      <td>-1.103407</td>\n",
              "      <td>0.675318</td>\n",
              "      <td>0.395078</td>\n",
              "      <td>-0.192933</td>\n",
              "      <td>0.233496</td>\n",
              "      <td>0.825427</td>\n",
              "      <td>-0.143247</td>\n",
              "      <td>-1.115397</td>\n",
              "      <td>0.374189</td>\n",
              "      <td>-0.056085</td>\n",
              "      <td>-0.020643</td>\n",
              "      <td>-0.079921</td>\n",
              "      <td>2.29</td>\n",
              "      <td>0</td>\n",
              "    </tr>\n",
              "    <tr>\n",
              "      <th>3</th>\n",
              "      <td>40650.0</td>\n",
              "      <td>-1.593912</td>\n",
              "      <td>2.215525</td>\n",
              "      <td>0.210067</td>\n",
              "      <td>-0.236255</td>\n",
              "      <td>-0.002224</td>\n",
              "      <td>-0.058601</td>\n",
              "      <td>-0.392776</td>\n",
              "      <td>-2.005520</td>\n",
              "      <td>-0.306309</td>\n",
              "      <td>-0.253465</td>\n",
              "      <td>-0.892002</td>\n",
              "      <td>0.681270</td>\n",
              "      <td>1.539975</td>\n",
              "      <td>-0.407657</td>\n",
              "      <td>0.740105</td>\n",
              "      <td>0.687552</td>\n",
              "      <td>-0.019201</td>\n",
              "      <td>0.040053</td>\n",
              "      <td>0.133313</td>\n",
              "      <td>-0.258684</td>\n",
              "      <td>1.995801</td>\n",
              "      <td>-1.554302</td>\n",
              "      <td>0.261539</td>\n",
              "      <td>-0.531345</td>\n",
              "      <td>0.124584</td>\n",
              "      <td>0.146124</td>\n",
              "      <td>0.346683</td>\n",
              "      <td>0.104860</td>\n",
              "      <td>8.99</td>\n",
              "      <td>0</td>\n",
              "    </tr>\n",
              "    <tr>\n",
              "      <th>4</th>\n",
              "      <td>121428.0</td>\n",
              "      <td>1.863194</td>\n",
              "      <td>0.265005</td>\n",
              "      <td>-0.261564</td>\n",
              "      <td>3.853830</td>\n",
              "      <td>0.220877</td>\n",
              "      <td>0.773558</td>\n",
              "      <td>-0.296455</td>\n",
              "      <td>0.207090</td>\n",
              "      <td>-0.487512</td>\n",
              "      <td>1.454433</td>\n",
              "      <td>-0.245666</td>\n",
              "      <td>0.610215</td>\n",
              "      <td>-0.153871</td>\n",
              "      <td>-0.147691</td>\n",
              "      <td>-2.586887</td>\n",
              "      <td>0.606259</td>\n",
              "      <td>-0.701786</td>\n",
              "      <td>0.034701</td>\n",
              "      <td>-0.923304</td>\n",
              "      <td>-0.311545</td>\n",
              "      <td>0.118870</td>\n",
              "      <td>0.611417</td>\n",
              "      <td>0.034731</td>\n",
              "      <td>-0.387779</td>\n",
              "      <td>0.103574</td>\n",
              "      <td>0.140670</td>\n",
              "      <td>-0.003506</td>\n",
              "      <td>-0.061238</td>\n",
              "      <td>0.00</td>\n",
              "      <td>0</td>\n",
              "    </tr>\n",
              "    <tr>\n",
              "      <th>...</th>\n",
              "      <td>...</td>\n",
              "      <td>...</td>\n",
              "      <td>...</td>\n",
              "      <td>...</td>\n",
              "      <td>...</td>\n",
              "      <td>...</td>\n",
              "      <td>...</td>\n",
              "      <td>...</td>\n",
              "      <td>...</td>\n",
              "      <td>...</td>\n",
              "      <td>...</td>\n",
              "      <td>...</td>\n",
              "      <td>...</td>\n",
              "      <td>...</td>\n",
              "      <td>...</td>\n",
              "      <td>...</td>\n",
              "      <td>...</td>\n",
              "      <td>...</td>\n",
              "      <td>...</td>\n",
              "      <td>...</td>\n",
              "      <td>...</td>\n",
              "      <td>...</td>\n",
              "      <td>...</td>\n",
              "      <td>...</td>\n",
              "      <td>...</td>\n",
              "      <td>...</td>\n",
              "      <td>...</td>\n",
              "      <td>...</td>\n",
              "      <td>...</td>\n",
              "      <td>...</td>\n",
              "      <td>...</td>\n",
              "    </tr>\n",
              "    <tr>\n",
              "      <th>85438</th>\n",
              "      <td>116793.0</td>\n",
              "      <td>-0.753070</td>\n",
              "      <td>1.600625</td>\n",
              "      <td>-1.694466</td>\n",
              "      <td>-1.448546</td>\n",
              "      <td>1.130943</td>\n",
              "      <td>-0.976420</td>\n",
              "      <td>1.167232</td>\n",
              "      <td>0.201294</td>\n",
              "      <td>-0.245013</td>\n",
              "      <td>0.113600</td>\n",
              "      <td>-0.376961</td>\n",
              "      <td>-0.064316</td>\n",
              "      <td>-1.027914</td>\n",
              "      <td>1.212622</td>\n",
              "      <td>-0.719329</td>\n",
              "      <td>-0.053734</td>\n",
              "      <td>-0.817776</td>\n",
              "      <td>0.558632</td>\n",
              "      <td>0.478907</td>\n",
              "      <td>0.050720</td>\n",
              "      <td>0.202703</td>\n",
              "      <td>0.725051</td>\n",
              "      <td>-0.303092</td>\n",
              "      <td>-1.016408</td>\n",
              "      <td>-0.107503</td>\n",
              "      <td>0.146474</td>\n",
              "      <td>0.469657</td>\n",
              "      <td>0.304103</td>\n",
              "      <td>0.75</td>\n",
              "      <td>0</td>\n",
              "    </tr>\n",
              "    <tr>\n",
              "      <th>85439</th>\n",
              "      <td>57942.0</td>\n",
              "      <td>-0.539994</td>\n",
              "      <td>0.515511</td>\n",
              "      <td>2.029197</td>\n",
              "      <td>0.514863</td>\n",
              "      <td>-0.043655</td>\n",
              "      <td>-0.275000</td>\n",
              "      <td>0.851781</td>\n",
              "      <td>-0.059080</td>\n",
              "      <td>0.319422</td>\n",
              "      <td>-0.573884</td>\n",
              "      <td>-0.550373</td>\n",
              "      <td>-0.258060</td>\n",
              "      <td>-1.541622</td>\n",
              "      <td>-0.192496</td>\n",
              "      <td>-0.756751</td>\n",
              "      <td>-0.702496</td>\n",
              "      <td>0.159027</td>\n",
              "      <td>-0.787307</td>\n",
              "      <td>-1.142297</td>\n",
              "      <td>-0.173193</td>\n",
              "      <td>0.059047</td>\n",
              "      <td>0.441880</td>\n",
              "      <td>-0.048056</td>\n",
              "      <td>0.574042</td>\n",
              "      <td>-0.252453</td>\n",
              "      <td>-0.545212</td>\n",
              "      <td>-0.007875</td>\n",
              "      <td>-0.067811</td>\n",
              "      <td>40.00</td>\n",
              "      <td>0</td>\n",
              "    </tr>\n",
              "    <tr>\n",
              "      <th>85440</th>\n",
              "      <td>53165.0</td>\n",
              "      <td>-1.833594</td>\n",
              "      <td>-1.015652</td>\n",
              "      <td>1.217378</td>\n",
              "      <td>-1.464593</td>\n",
              "      <td>-0.448623</td>\n",
              "      <td>-0.955303</td>\n",
              "      <td>-0.496368</td>\n",
              "      <td>0.481275</td>\n",
              "      <td>-1.151529</td>\n",
              "      <td>-0.210526</td>\n",
              "      <td>-1.014940</td>\n",
              "      <td>-0.517389</td>\n",
              "      <td>0.895314</td>\n",
              "      <td>-0.274270</td>\n",
              "      <td>0.320422</td>\n",
              "      <td>1.832300</td>\n",
              "      <td>-0.170460</td>\n",
              "      <td>-0.889855</td>\n",
              "      <td>-0.041644</td>\n",
              "      <td>0.754963</td>\n",
              "      <td>0.363656</td>\n",
              "      <td>0.279139</td>\n",
              "      <td>0.166895</td>\n",
              "      <td>-0.118669</td>\n",
              "      <td>-0.005576</td>\n",
              "      <td>-0.438610</td>\n",
              "      <td>0.209083</td>\n",
              "      <td>-0.049870</td>\n",
              "      <td>140.00</td>\n",
              "      <td>0</td>\n",
              "    </tr>\n",
              "    <tr>\n",
              "      <th>85441</th>\n",
              "      <td>166438.0</td>\n",
              "      <td>1.373911</td>\n",
              "      <td>-0.999031</td>\n",
              "      <td>-1.694373</td>\n",
              "      <td>1.057884</td>\n",
              "      <td>-0.413288</td>\n",
              "      <td>-1.033805</td>\n",
              "      <td>0.412863</td>\n",
              "      <td>-0.382925</td>\n",
              "      <td>0.640802</td>\n",
              "      <td>-0.550427</td>\n",
              "      <td>-0.477887</td>\n",
              "      <td>0.329516</td>\n",
              "      <td>0.595095</td>\n",
              "      <td>-1.184722</td>\n",
              "      <td>0.311344</td>\n",
              "      <td>0.375467</td>\n",
              "      <td>0.528451</td>\n",
              "      <td>0.493846</td>\n",
              "      <td>-0.607897</td>\n",
              "      <td>0.537641</td>\n",
              "      <td>0.470784</td>\n",
              "      <td>0.868639</td>\n",
              "      <td>-0.348918</td>\n",
              "      <td>0.059266</td>\n",
              "      <td>0.041987</td>\n",
              "      <td>0.580518</td>\n",
              "      <td>-0.086933</td>\n",
              "      <td>0.025684</td>\n",
              "      <td>343.39</td>\n",
              "      <td>0</td>\n",
              "    </tr>\n",
              "    <tr>\n",
              "      <th>85442</th>\n",
              "      <td>1480.0</td>\n",
              "      <td>-1.683357</td>\n",
              "      <td>1.505123</td>\n",
              "      <td>0.843921</td>\n",
              "      <td>-0.827478</td>\n",
              "      <td>-0.431862</td>\n",
              "      <td>-0.215336</td>\n",
              "      <td>-0.102517</td>\n",
              "      <td>-0.114782</td>\n",
              "      <td>0.349091</td>\n",
              "      <td>-0.069912</td>\n",
              "      <td>0.211948</td>\n",
              "      <td>0.290004</td>\n",
              "      <td>-1.516944</td>\n",
              "      <td>0.405564</td>\n",
              "      <td>-1.273634</td>\n",
              "      <td>0.224752</td>\n",
              "      <td>-0.202278</td>\n",
              "      <td>0.129105</td>\n",
              "      <td>0.255646</td>\n",
              "      <td>-0.063979</td>\n",
              "      <td>0.558429</td>\n",
              "      <td>-0.712699</td>\n",
              "      <td>-0.019037</td>\n",
              "      <td>-0.010307</td>\n",
              "      <td>0.128748</td>\n",
              "      <td>0.401953</td>\n",
              "      <td>0.392933</td>\n",
              "      <td>0.213428</td>\n",
              "      <td>5.00</td>\n",
              "      <td>0</td>\n",
              "    </tr>\n",
              "  </tbody>\n",
              "</table>\n",
              "<p>85443 rows × 31 columns</p>\n",
              "</div>"
            ],
            "text/plain": [
              "           Time        V1        V2  ...       V28  Amount  Class\n",
              "0       71852.0 -0.584007  0.880079  ...  0.144502   42.81      0\n",
              "1       48336.0  1.326714 -0.823441  ...  0.003230   75.00      0\n",
              "2      166298.0  2.097691 -0.076097  ... -0.079921    2.29      0\n",
              "3       40650.0 -1.593912  2.215525  ...  0.104860    8.99      0\n",
              "4      121428.0  1.863194  0.265005  ... -0.061238    0.00      0\n",
              "...         ...       ...       ...  ...       ...     ...    ...\n",
              "85438  116793.0 -0.753070  1.600625  ...  0.304103    0.75      0\n",
              "85439   57942.0 -0.539994  0.515511  ... -0.067811   40.00      0\n",
              "85440   53165.0 -1.833594 -1.015652  ... -0.049870  140.00      0\n",
              "85441  166438.0  1.373911 -0.999031  ...  0.025684  343.39      0\n",
              "85442    1480.0 -1.683357  1.505123  ...  0.213428    5.00      0\n",
              "\n",
              "[85443 rows x 31 columns]"
            ]
          },
          "metadata": {
            "tags": []
          },
          "execution_count": 7
        }
      ]
    },
    {
      "cell_type": "code",
      "metadata": {
        "tags": [],
        "id": "shMKcBLKs_cS"
      },
      "source": [
        "# Functiona to create a list to be used as ID for the data frame \n",
        "def id_create(df):\n",
        "    id = []\n",
        "    for i in range(df.shape[0]):\n",
        "        id.append(i+1)\n",
        "    return id\n",
        "\n",
        "# For the test data frame created an ID list and added to the data frame \n",
        "id_test = id_create(cc_test_df)\n",
        "cc_test_df[\"Id\"] = id_test\n",
        "cc_test_df.set_index(\"Id\", inplace=True)\n",
        "\n",
        "# For the train data frame created an ID list and added to the data frame \n",
        "id_train = id_create(cc_train_df)\n",
        "cc_train_df[\"Id\"] = id_train\n",
        "cc_train_df.set_index(\"Id\", inplace=True)\n",
        "\n"
      ],
      "execution_count": 8,
      "outputs": []
    },
    {
      "cell_type": "markdown",
      "metadata": {
        "id": "wFuZ-LW7s_cW"
      },
      "source": [
        "## Check of the missing value\n",
        "\n",
        "The dataframe information and description along with the missing label plots shows that there isn't any missing or NA value\n"
      ]
    },
    {
      "cell_type": "code",
      "metadata": {
        "id": "ebnBXc4Ps_cW",
        "outputId": "976cbbfa-238e-4721-faca-d3df969f87be",
        "colab": {
          "base_uri": "https://localhost:8080/",
          "height": 1000
        }
      },
      "source": [
        "print(\"Dataframe information of the train dataset\")\n",
        "print(cc_train_df.info())\n",
        "print()\n",
        "print(\"Dataframe information of the test dataset\")\n",
        "print(cc_test_df.info())\n"
      ],
      "execution_count": 9,
      "outputs": [
        {
          "output_type": "stream",
          "text": [
            "Dataframe information of the train dataset\n",
            "<class 'pandas.core.frame.DataFrame'>\n",
            "Int64Index: 199364 entries, 1 to 199364\n",
            "Data columns (total 31 columns):\n",
            " #   Column  Non-Null Count   Dtype  \n",
            "---  ------  --------------   -----  \n",
            " 0   Time    199364 non-null  float64\n",
            " 1   V1      199364 non-null  float64\n",
            " 2   V2      199364 non-null  float64\n",
            " 3   V3      199364 non-null  float64\n",
            " 4   V4      199364 non-null  float64\n",
            " 5   V5      199364 non-null  float64\n",
            " 6   V6      199364 non-null  float64\n",
            " 7   V7      199364 non-null  float64\n",
            " 8   V8      199364 non-null  float64\n",
            " 9   V9      199364 non-null  float64\n",
            " 10  V10     199364 non-null  float64\n",
            " 11  V11     199364 non-null  float64\n",
            " 12  V12     199364 non-null  float64\n",
            " 13  V13     199364 non-null  float64\n",
            " 14  V14     199364 non-null  float64\n",
            " 15  V15     199364 non-null  float64\n",
            " 16  V16     199364 non-null  float64\n",
            " 17  V17     199364 non-null  float64\n",
            " 18  V18     199364 non-null  float64\n",
            " 19  V19     199364 non-null  float64\n",
            " 20  V20     199364 non-null  float64\n",
            " 21  V21     199364 non-null  float64\n",
            " 22  V22     199364 non-null  float64\n",
            " 23  V23     199364 non-null  float64\n",
            " 24  V24     199364 non-null  float64\n",
            " 25  V25     199364 non-null  float64\n",
            " 26  V26     199364 non-null  float64\n",
            " 27  V27     199364 non-null  float64\n",
            " 28  V28     199364 non-null  float64\n",
            " 29  Amount  199364 non-null  float64\n",
            " 30  Class   199364 non-null  int64  \n",
            "dtypes: float64(30), int64(1)\n",
            "memory usage: 48.7 MB\n",
            "None\n",
            "\n",
            "Dataframe information of the test dataset\n",
            "<class 'pandas.core.frame.DataFrame'>\n",
            "Int64Index: 85443 entries, 1 to 85443\n",
            "Data columns (total 31 columns):\n",
            " #   Column  Non-Null Count  Dtype  \n",
            "---  ------  --------------  -----  \n",
            " 0   Time    85443 non-null  float64\n",
            " 1   V1      85443 non-null  float64\n",
            " 2   V2      85443 non-null  float64\n",
            " 3   V3      85443 non-null  float64\n",
            " 4   V4      85443 non-null  float64\n",
            " 5   V5      85443 non-null  float64\n",
            " 6   V6      85443 non-null  float64\n",
            " 7   V7      85443 non-null  float64\n",
            " 8   V8      85443 non-null  float64\n",
            " 9   V9      85443 non-null  float64\n",
            " 10  V10     85443 non-null  float64\n",
            " 11  V11     85443 non-null  float64\n",
            " 12  V12     85443 non-null  float64\n",
            " 13  V13     85443 non-null  float64\n",
            " 14  V14     85443 non-null  float64\n",
            " 15  V15     85443 non-null  float64\n",
            " 16  V16     85443 non-null  float64\n",
            " 17  V17     85443 non-null  float64\n",
            " 18  V18     85443 non-null  float64\n",
            " 19  V19     85443 non-null  float64\n",
            " 20  V20     85443 non-null  float64\n",
            " 21  V21     85443 non-null  float64\n",
            " 22  V22     85443 non-null  float64\n",
            " 23  V23     85443 non-null  float64\n",
            " 24  V24     85443 non-null  float64\n",
            " 25  V25     85443 non-null  float64\n",
            " 26  V26     85443 non-null  float64\n",
            " 27  V27     85443 non-null  float64\n",
            " 28  V28     85443 non-null  float64\n",
            " 29  Amount  85443 non-null  float64\n",
            " 30  Class   85443 non-null  int64  \n",
            "dtypes: float64(30), int64(1)\n",
            "memory usage: 20.9 MB\n",
            "None\n"
          ],
          "name": "stdout"
        }
      ]
    },
    {
      "cell_type": "code",
      "metadata": {
        "id": "KufWkGlPs_ca"
      },
      "source": [
        "# Missing label plot for the train dataset\n",
        "msno.matrix(cc_train_df, labels=True)"
      ],
      "execution_count": null,
      "outputs": []
    },
    {
      "cell_type": "code",
      "metadata": {
        "id": "p2rMeK0Ms_cd"
      },
      "source": [
        "# Missing label plot for the test dataset\n",
        "msno.matrix(cc_test_df, labels=True)"
      ],
      "execution_count": null,
      "outputs": []
    },
    {
      "cell_type": "code",
      "metadata": {
        "id": "yvtBl8Fos_ck",
        "outputId": "c0d6a2a3-8783-4ffc-bcb5-f05ee62a99be",
        "colab": {
          "base_uri": "https://localhost:8080/",
          "height": 472
        }
      },
      "source": [
        "print(\"Dataframe description of the train dataset\")\n",
        "print(cc_train_df.describe())\n",
        "print()\n",
        "print(\"Dataframe description of the test dataset\")\n",
        "print(cc_test_df.describe())\n"
      ],
      "execution_count": null,
      "outputs": [
        {
          "output_type": "stream",
          "text": [
            "Dataframe description of the train dataset\n",
            "                Time             V1  ...         Amount          Class\n",
            "count  199364.000000  199364.000000  ...  199364.000000  199364.000000\n",
            "mean    94806.201064       0.004189  ...      88.761549       0.001826\n",
            "std     47511.693849       1.954728  ...     253.776731       0.042691\n",
            "min         0.000000     -56.407510  ...       0.000000       0.000000\n",
            "25%     54206.250000      -0.918115  ...       5.500000       0.000000\n",
            "50%     84650.000000       0.023565  ...      21.990000       0.000000\n",
            "75%    139350.250000       1.317063  ...      77.000000       0.000000\n",
            "max    172792.000000       2.454930  ...   25691.160000       1.000000\n",
            "\n",
            "[8 rows x 31 columns]\n",
            "\n",
            "Dataframe description of the test dataset\n",
            "                Time            V1  ...        Amount         Class\n",
            "count   85443.000000  85443.000000  ...  85443.000000  85443.000000\n",
            "mean    94831.729164     -0.009775  ...     87.388463      0.001498\n",
            "std     47433.429276      1.967899  ...    241.371519      0.038676\n",
            "min         4.000000    -41.928738  ...      0.000000      0.000000\n",
            "25%     54200.000000     -0.925530  ...      5.800000      0.000000\n",
            "50%     84794.000000      0.004117  ...     22.120000      0.000000\n",
            "75%    139249.000000      1.311441  ...     77.900000      0.000000\n",
            "max    172784.000000      2.451888  ...  19656.530000      1.000000\n",
            "\n",
            "[8 rows x 31 columns]\n"
          ],
          "name": "stdout"
        }
      ]
    },
    {
      "cell_type": "markdown",
      "metadata": {
        "id": "p6nTgbi2s_cs"
      },
      "source": [
        "## Duplicate values\n",
        "\n",
        "Duplicate in the training dataset are dropped and the on in the test dataset are kept\n",
        "\n"
      ]
    },
    {
      "cell_type": "code",
      "metadata": {
        "id": "BAWlxkDzs_ct",
        "outputId": "2a5029ed-a43a-4ec4-bfed-86a7c6ecb77e",
        "colab": {
          "base_uri": "https://localhost:8080/",
          "height": 54
        }
      },
      "source": [
        "# Dupplicate in the train dataset\n",
        "print(\"Number of dupplicate in the training set \", cc_train_df.duplicated().sum())\n",
        "\n",
        "# Dupplicate in the test dataset\n",
        "print(\"Number of dupplicate in the test set \", cc_test_df.duplicated().sum())\n"
      ],
      "execution_count": 10,
      "outputs": [
        {
          "output_type": "stream",
          "text": [
            "Number of dupplicate in the training set  585\n",
            "Number of dupplicate in the test set  131\n"
          ],
          "name": "stdout"
        }
      ]
    },
    {
      "cell_type": "code",
      "metadata": {
        "id": "6RtuClcSs_c0"
      },
      "source": [
        "# Dropping the duplicate and keeping the first of the training  dataset\n",
        "cc_train_df.drop_duplicates(keep='first', inplace=True)\n"
      ],
      "execution_count": 11,
      "outputs": []
    },
    {
      "cell_type": "code",
      "metadata": {
        "id": "F6TphZ8Ps_c5",
        "outputId": "137fbec8-8d34-4daa-d096-e77db7ee55ef",
        "colab": {
          "base_uri": "https://localhost:8080/",
          "height": 54
        }
      },
      "source": [
        "# Dupplicate in the train dataset\n",
        "print(\"Number of dupplicate in the training set \", cc_train_df.duplicated().sum())\n",
        "\n",
        "# Dupplicate in the test dataset\n",
        "print(\"Number of dupplicate in the test set \", cc_test_df.duplicated().sum())"
      ],
      "execution_count": 12,
      "outputs": [
        {
          "output_type": "stream",
          "text": [
            "Number of dupplicate in the training set  0\n",
            "Number of dupplicate in the test set  131\n"
          ],
          "name": "stdout"
        }
      ]
    },
    {
      "cell_type": "markdown",
      "metadata": {
        "id": "Qdfurlpvs_c8"
      },
      "source": [
        "## Data type\n",
        "\n",
        "The Class column in data frame is of type int64\n",
        "It's value can be only 0 o 1, keep as it is so the correlation can be correlated"
      ]
    },
    {
      "cell_type": "code",
      "metadata": {
        "id": "WJV8DvDQs_c8"
      },
      "source": [
        "# Conversion to a category type\n",
        "#cc_train_df[\"Class\"] = cc_train_df[\"Class\"].astype(\"category\")\n",
        "#cc_train_df[\"Class\"].describe()"
      ],
      "execution_count": null,
      "outputs": []
    },
    {
      "cell_type": "code",
      "metadata": {
        "id": "6v3zjJnts_dA"
      },
      "source": [
        "# Conversion to a category type\n",
        "#cc_test_df[\"Class\"] = cc_test_df[\"Class\"].astype(\"category\")\n",
        "#cc_test_df[\"Class\"].describe()"
      ],
      "execution_count": null,
      "outputs": []
    },
    {
      "cell_type": "markdown",
      "metadata": {
        "id": "hEBurZ78s_dF"
      },
      "source": [
        "## Datset Corelation\n",
        "\n",
        "Exploring the dataset correlation\n"
      ]
    },
    {
      "cell_type": "code",
      "metadata": {
        "id": "2E_vNrwLs_dG",
        "outputId": "ac1ecd39-d4a6-4793-db31-e921db0b575e",
        "colab": {
          "base_uri": "https://localhost:8080/",
          "height": 563
        }
      },
      "source": [
        "# list of all the columns minus the \"Class\"\n",
        "columns = cc_test_df.columns.tolist()\n",
        "columns_to_remove = [\"Class\"]\n",
        "\n",
        "## Remove a list from another list\n",
        "columns = [var for var in columns if var not in columns_to_remove]\n",
        "columns"
      ],
      "execution_count": 13,
      "outputs": [
        {
          "output_type": "execute_result",
          "data": {
            "text/plain": [
              "['Time',\n",
              " 'V1',\n",
              " 'V2',\n",
              " 'V3',\n",
              " 'V4',\n",
              " 'V5',\n",
              " 'V6',\n",
              " 'V7',\n",
              " 'V8',\n",
              " 'V9',\n",
              " 'V10',\n",
              " 'V11',\n",
              " 'V12',\n",
              " 'V13',\n",
              " 'V14',\n",
              " 'V15',\n",
              " 'V16',\n",
              " 'V17',\n",
              " 'V18',\n",
              " 'V19',\n",
              " 'V20',\n",
              " 'V21',\n",
              " 'V22',\n",
              " 'V23',\n",
              " 'V24',\n",
              " 'V25',\n",
              " 'V26',\n",
              " 'V27',\n",
              " 'V28',\n",
              " 'Amount']"
            ]
          },
          "metadata": {
            "tags": []
          },
          "execution_count": 13
        }
      ]
    },
    {
      "cell_type": "code",
      "metadata": {
        "id": "xfEPrVH7vGyj"
      },
      "source": [
        "# Tried to run the below code to get the picture for all the features but it wouldn't show all the picture, tried VSCode and Jupyter notebook\n",
        "# So i will plot the each of the feature separately\n",
        "'''\n",
        "for i, cat in enumerate(columns):\n",
        "  fig = px.scatter(cc_train_df, x=cat, y=\"Class\")\n",
        "  fig.show()\n",
        "'''"
      ],
      "execution_count": null,
      "outputs": []
    },
    {
      "cell_type": "code",
      "metadata": {
        "id": "fulr83n2s_dK"
      },
      "source": [
        "# Function to plot the scatter plot and violin plot\n",
        "\n",
        "def plotting(x, y):\n",
        "    title = \"Scatter plot training set \" + x + \" vs \" + y\n",
        "    fig = px.scatter(cc_train_df, x=x, y=y, title=title)\n",
        "    fig.show()\n",
        "\n",
        "    title = \"Violin plot training set \" + x + \" vs \" + y\n",
        "    fig = px.violin(cc_train_df, y=y, x=x, box=True, title=title)\n",
        "    fig.update_layout(xaxis_type=\"category\", xaxis={'categoryorder':'mean ascending'})\n",
        "    fig.show()\n",
        "\n",
        "    title = \"Test set \" + x + \" vs \" + y\n",
        "    fig = px.scatter(cc_test_df, x=x, y=y, title=title)\n",
        "    fig.show()\n",
        "\n",
        "    title = \"Violin plot test set \" + x + \" vs \" + y\n",
        "    fig = px.violin(cc_test_df, y=y, x=x, box=True, title=title)\n",
        "    fig.update_layout(xaxis_type=\"category\", xaxis={'categoryorder':'mean ascending'})\n",
        "    fig.show()\n",
        "  \n",
        "  "
      ],
      "execution_count": 14,
      "outputs": []
    },
    {
      "cell_type": "code",
      "metadata": {
        "id": "B3HDK859s_dP"
      },
      "source": [
        "# Correlation of the Time\n",
        "\n",
        "plotting(\"Class\", \"Time\")\n"
      ],
      "execution_count": null,
      "outputs": []
    },
    {
      "cell_type": "markdown",
      "metadata": {
        "id": "cA8qLadZvmPU"
      },
      "source": [
        "There is correlation Between Time and the Classification of the Fraud detection based on the above graphs and data dispersion\n",
        "\n",
        "Outliers none"
      ]
    },
    {
      "cell_type": "code",
      "metadata": {
        "id": "3rQduW9jvoKr"
      },
      "source": [
        "# Correlation of the V1\n",
        "plotting(\"Class\", \"V1\")\n"
      ],
      "execution_count": null,
      "outputs": []
    },
    {
      "cell_type": "markdown",
      "metadata": {
        "id": "vRRt2RQ83HW0"
      },
      "source": [
        "There is correlation Between V1 and the Classification of the Fraud detection based on the above graphs and data dispersion\n",
        "\n",
        "Outliers below -40"
      ]
    },
    {
      "cell_type": "code",
      "metadata": {
        "id": "TYKg4BYM3XUn"
      },
      "source": [
        "# Correlation of the V2\n",
        "plotting(\"Class\", \"V2\")"
      ],
      "execution_count": null,
      "outputs": []
    },
    {
      "cell_type": "markdown",
      "metadata": {
        "id": "jjqzzZUy32O0"
      },
      "source": [
        "There is correlation Between V2 and the Classification of the Fraud detection based on the above graphs and data dispersion\n",
        "\n",
        "Outliers below -40"
      ]
    },
    {
      "cell_type": "code",
      "metadata": {
        "id": "Trm0XSvG4E_g"
      },
      "source": [
        "# Correlation of the V3\n",
        "plotting(\"Class\", \"V3\")"
      ],
      "execution_count": null,
      "outputs": []
    },
    {
      "cell_type": "markdown",
      "metadata": {
        "id": "jdV_iWxf4ad7"
      },
      "source": [
        "There is correlation Between V3 and the Classification of the Fraud detection based on the above graphs and data dispersion\n",
        "\n",
        "Outliers below -35"
      ]
    },
    {
      "cell_type": "code",
      "metadata": {
        "id": "_p_6-2BYBM2o"
      },
      "source": [
        "# Correlation of the V4\n",
        "plotting(\"Class\", \"V4\")"
      ],
      "execution_count": null,
      "outputs": []
    },
    {
      "cell_type": "markdown",
      "metadata": {
        "id": "4monqg6DBTSN"
      },
      "source": [
        "There is correlation Between V4 and the Classification of the Fraud detection based on the above graphs and data dispersion\n",
        "\n",
        "Outliers greater than 15"
      ]
    },
    {
      "cell_type": "code",
      "metadata": {
        "id": "BK0sNyLzCPqC"
      },
      "source": [
        "# Correlation of the V5\n",
        "plotting(\"Class\", \"V5\")"
      ],
      "execution_count": null,
      "outputs": []
    },
    {
      "cell_type": "markdown",
      "metadata": {
        "id": "lnpbLEwQDjtW"
      },
      "source": [
        "There is correlation Between V5 and the Classification of the Fraud detection based on the above graphs and data dispersion\n",
        "\n",
        "Outliers greater than 40 and less than 40"
      ]
    },
    {
      "cell_type": "code",
      "metadata": {
        "id": "Zbs1dagTCQ7V"
      },
      "source": [
        "# Correlation of the V6\n",
        "plotting(\"Class\", \"V6\")"
      ],
      "execution_count": null,
      "outputs": []
    },
    {
      "cell_type": "markdown",
      "metadata": {
        "id": "TZIuFq2MDr6R"
      },
      "source": [
        "There is correlation Between V6 and the Classification of the Fraud detection based on the above graphs and data dispersion\n",
        "\n",
        "\n",
        "Outliers greater than 25"
      ]
    },
    {
      "cell_type": "code",
      "metadata": {
        "id": "BqnMH_eECQel"
      },
      "source": [
        "# Correlation of the V7\n",
        "plotting(\"Class\", \"V7\")"
      ],
      "execution_count": null,
      "outputs": []
    },
    {
      "cell_type": "markdown",
      "metadata": {
        "id": "XYSgplfYDvev"
      },
      "source": [
        "There is correlation Between V7 and the Classification of the Fraud detection based on the above graphs and data dispersion\n",
        "\n",
        "Outliers greater than 60"
      ]
    },
    {
      "cell_type": "code",
      "metadata": {
        "id": "wkDxYJ_8CScN"
      },
      "source": [
        "# Correlation of the V8\n",
        "plotting(\"Class\", \"V8\")"
      ],
      "execution_count": null,
      "outputs": []
    },
    {
      "cell_type": "markdown",
      "metadata": {
        "id": "9HOwzHXYEYUr"
      },
      "source": [
        "There is correlation Between V4 and the Classification of the Fraud detection based on the above graphs and data dispersion\n",
        "\n",
        "Outliers none"
      ]
    },
    {
      "cell_type": "code",
      "metadata": {
        "id": "0umuddtsCTJj"
      },
      "source": [
        "# Correlation of the V9\n",
        "plotting(\"Class\", \"V9\")"
      ],
      "execution_count": null,
      "outputs": []
    },
    {
      "cell_type": "markdown",
      "metadata": {
        "id": "ZPpc4iYtE4m1"
      },
      "source": [
        "There is correlation Between V9 and the Classification of the Fraud detection based on the above graphs and data dispersion\n",
        "\n",
        "Outliers greater than 15"
      ]
    },
    {
      "cell_type": "code",
      "metadata": {
        "id": "YHMmMSPDCR4m"
      },
      "source": [
        "# Correlation of the V10\n",
        "plotting(\"Class\", \"V10\")"
      ],
      "execution_count": null,
      "outputs": []
    },
    {
      "cell_type": "markdown",
      "metadata": {
        "id": "KZj3jYjLE8Wf"
      },
      "source": [
        "There is correlation Between V10 and the Classification of the Fraud detection based on the above graphs and data dispersion\n",
        "\n",
        "Outliers greater than 20"
      ]
    },
    {
      "cell_type": "code",
      "metadata": {
        "id": "kqunYmW9CdMm"
      },
      "source": [
        "# Correlation of the V11\n",
        "plotting(\"Class\", \"V11\")"
      ],
      "execution_count": null,
      "outputs": []
    },
    {
      "cell_type": "markdown",
      "metadata": {
        "id": "-EgyfngjFKd7"
      },
      "source": [
        "There is correlation Between V11 and the Classification of the Fraud detection based on the above graphs and data dispersion\n",
        "\n",
        "Outliers none"
      ]
    },
    {
      "cell_type": "code",
      "metadata": {
        "id": "QNdkEv48CeoL"
      },
      "source": [
        "# Correlation of the V12\n",
        "plotting(\"Class\", \"V12\")"
      ],
      "execution_count": null,
      "outputs": []
    },
    {
      "cell_type": "markdown",
      "metadata": {
        "id": "CP7Z0YMXFQTb"
      },
      "source": [
        "There is correlation Between V12 and the Classification of the Fraud detection based on the above graphs and data dispersion\n",
        "\n",
        "Outliers none"
      ]
    },
    {
      "cell_type": "code",
      "metadata": {
        "id": "yCE4JXoyCffJ"
      },
      "source": [
        "# Correlation of the V13\n",
        "plotting(\"Class\", \"V13\")"
      ],
      "execution_count": null,
      "outputs": []
    },
    {
      "cell_type": "markdown",
      "metadata": {
        "id": "D0xQsNBwFWOM"
      },
      "source": [
        "There isn't any correlation Between V13 and the Classification of the Fraud detection based on the above graphs and data dispersion\n",
        "\n",
        "Outliers greater than 6"
      ]
    },
    {
      "cell_type": "code",
      "metadata": {
        "id": "bA9hsN4-CeLd"
      },
      "source": [
        "# Correlation of the V14\n",
        "plotting(\"Class\", \"V14\")"
      ],
      "execution_count": null,
      "outputs": []
    },
    {
      "cell_type": "markdown",
      "metadata": {
        "id": "hOhatum8FgYV"
      },
      "source": [
        "There is correlation Between V14 and the Classification of the Fraud detection based on the above graphs and data dispersion\n",
        "\n",
        "Outliers none"
      ]
    },
    {
      "cell_type": "code",
      "metadata": {
        "id": "TNpOdbMcCgiy"
      },
      "source": [
        "# Correlation of the V15\n",
        "plotting(\"Class\", \"V15\")"
      ],
      "execution_count": null,
      "outputs": []
    },
    {
      "cell_type": "markdown",
      "metadata": {
        "id": "MV32bSiSFk5s"
      },
      "source": [
        "There isn't correlation Between V15 and the Classification of the Fraud detection based on the above graphs and data dispersion\n",
        "\n",
        "Outliers greater than 6"
      ]
    },
    {
      "cell_type": "code",
      "metadata": {
        "id": "nSoEjdiaCgHu"
      },
      "source": [
        "# Correlation of the V16\n",
        "plotting(\"Class\", \"V16\")"
      ],
      "execution_count": null,
      "outputs": []
    },
    {
      "cell_type": "markdown",
      "metadata": {
        "id": "Bnmc_gOnFrcp"
      },
      "source": [
        "There is correlation Between V16 and the Classification of the Fraud detection based on the above graphs and data dispersion\n",
        "\n",
        "Outliers greater than 10"
      ]
    },
    {
      "cell_type": "code",
      "metadata": {
        "id": "thd6Sy2GChQ-"
      },
      "source": [
        "# Correlation of the V17\n",
        "plotting(\"Class\", \"V17\")"
      ],
      "execution_count": null,
      "outputs": []
    },
    {
      "cell_type": "markdown",
      "metadata": {
        "id": "eR_IylJfFvOm"
      },
      "source": [
        "There is correlation Between V17 and the Classification of the Fraud detection based on the above graphs and data dispersion\n",
        "\n",
        "Outliers none"
      ]
    },
    {
      "cell_type": "code",
      "metadata": {
        "id": "uq5SO8EzCiiP"
      },
      "source": [
        "# Correlation of the V18\n",
        "plotting(\"Class\", \"V18\")"
      ],
      "execution_count": null,
      "outputs": []
    },
    {
      "cell_type": "markdown",
      "metadata": {
        "id": "yfneyzIWFy5G"
      },
      "source": [
        "There is correlation Between V18 and the Classification of the Fraud detection based on the above graphs and data dispersion\n",
        "\n",
        "Outliers none"
      ]
    },
    {
      "cell_type": "code",
      "metadata": {
        "id": "aoGWlXj0CiCn"
      },
      "source": [
        "# Correlation of the V19\n",
        "plotting(\"Class\", \"V19\")"
      ],
      "execution_count": null,
      "outputs": []
    },
    {
      "cell_type": "markdown",
      "metadata": {
        "id": "HbpbXHVQF4cp"
      },
      "source": [
        "There is correlation Between V19 and the Classification of the Fraud detection based on the above graphs and data dispersion\n",
        "\n",
        "Outliers less than -6"
      ]
    },
    {
      "cell_type": "code",
      "metadata": {
        "id": "AFq-NU3jC7fa"
      },
      "source": [
        "# Correlation of the V20\n",
        "plotting(\"Class\", \"V20\")"
      ],
      "execution_count": null,
      "outputs": []
    },
    {
      "cell_type": "markdown",
      "metadata": {
        "id": "wRX2WZ7UGBe2"
      },
      "source": [
        "There is correlation Between V20 and the Classification of the Fraud detection based on the above graphs and data dispersion\n",
        "\n",
        "Outliers less than -40"
      ]
    },
    {
      "cell_type": "code",
      "metadata": {
        "id": "klWEer3-DCOR"
      },
      "source": [
        "# Correlation of the V21\n",
        "plotting(\"Class\", \"V21\")"
      ],
      "execution_count": null,
      "outputs": []
    },
    {
      "cell_type": "markdown",
      "metadata": {
        "id": "7P_kwf6FGHbu"
      },
      "source": [
        "There is correlation Between V21 and the Classification of the Fraud detection based on the above graphs and data dispersion\n",
        "\n",
        "Outliers greater than 20 and less than -20"
      ]
    },
    {
      "cell_type": "code",
      "metadata": {
        "id": "lwit1D9QDDqR"
      },
      "source": [
        "# Correlation of the V22\n",
        "plotting(\"Class\", \"V22\")"
      ],
      "execution_count": null,
      "outputs": []
    },
    {
      "cell_type": "markdown",
      "metadata": {
        "id": "YxYsHMa7GNJ_"
      },
      "source": [
        "There is correlation Between V22 and the Classification of the Fraud detection based on the above graphs and data dispersion\n",
        "\n",
        "Outliers greater than 10 and less than 10"
      ]
    },
    {
      "cell_type": "code",
      "metadata": {
        "id": "wZu1c60eDEwG"
      },
      "source": [
        "# Correlation of the V23\n",
        "plotting(\"Class\", \"V23\")"
      ],
      "execution_count": null,
      "outputs": []
    },
    {
      "cell_type": "markdown",
      "metadata": {
        "id": "_QzW6ENsGWhe"
      },
      "source": [
        "There is correlation Between V23 and the Classification of the Fraud detection based on the above graphs and data dispersion\n",
        "\n",
        "Outliers less than -40"
      ]
    },
    {
      "cell_type": "code",
      "metadata": {
        "id": "RjPABfZkDFdg"
      },
      "source": [
        "# Correlation of the V24\n",
        "plotting(\"Class\", \"V24\")"
      ],
      "execution_count": null,
      "outputs": []
    },
    {
      "cell_type": "markdown",
      "metadata": {
        "id": "qXtnYkuFHxb3"
      },
      "source": [
        "There is correlation Between V24 and the Classification of the Fraud detection based on the above graphs and data dispersion even though looks like is slight\n",
        "\n",
        "Outliers greater than 2.5"
      ]
    },
    {
      "cell_type": "code",
      "metadata": {
        "id": "kXCvbEf9DETb"
      },
      "source": [
        "# Correlation of the V25\n",
        "plotting(\"Class\", \"V25\")"
      ],
      "execution_count": null,
      "outputs": []
    },
    {
      "cell_type": "markdown",
      "metadata": {
        "id": "uBR2Sl9bIbo_"
      },
      "source": [
        "There is some correlation Between V25 and the Classification of the Fraud detection based on the above graphs and data dispersion even though is quite slight\n",
        "\n",
        "Outliers less than -10"
      ]
    },
    {
      "cell_type": "code",
      "metadata": {
        "id": "Ja9B2e21DDO3"
      },
      "source": [
        "# Correlation of the V26\n",
        "plotting(\"Class\", \"V26\")"
      ],
      "execution_count": null,
      "outputs": []
    },
    {
      "cell_type": "markdown",
      "metadata": {
        "id": "Gd4yvALUI4IX"
      },
      "source": [
        "There is correlation Between V26 and the Classification of the Fraud detection based on the above graphs and data dispersion\n",
        "\n",
        "Outliers less than -2"
      ]
    },
    {
      "cell_type": "code",
      "metadata": {
        "id": "SPW8X1B5DBhN"
      },
      "source": [
        "# Correlation of the V27\n",
        "plotting(\"Class\", \"V27\")"
      ],
      "execution_count": null,
      "outputs": []
    },
    {
      "cell_type": "markdown",
      "metadata": {
        "id": "jJHMCYDpJeO0"
      },
      "source": [
        "There is small correlation Between V27 and the Classification of the Fraud detection based on the above graphs and data dispersion\n",
        "\n",
        "Outliers greater tha 13 and less than -10"
      ]
    },
    {
      "cell_type": "code",
      "metadata": {
        "id": "keQViEy3DP32"
      },
      "source": [
        "# Correlation of the V28\n",
        "plotting(\"Class\", \"V28\")"
      ],
      "execution_count": null,
      "outputs": []
    },
    {
      "cell_type": "markdown",
      "metadata": {
        "id": "J2LFu5Z7KClk"
      },
      "source": [
        "There is correlation Between V28 and the Classification of the Fraud detection based on the above graphs and data dispersion\n",
        "\n",
        "Outliers greater than 20 less than -10"
      ]
    },
    {
      "cell_type": "code",
      "metadata": {
        "id": "pwex0xEzDTnS"
      },
      "source": [
        "# Correlation of the Amount\n",
        "plotting(\"Class\", \"Amount\")"
      ],
      "execution_count": null,
      "outputs": []
    },
    {
      "cell_type": "markdown",
      "metadata": {
        "id": "tR4gszgFKUyd"
      },
      "source": [
        "There is correlation Between Amount and the Classification of the Fraud detection based on the above graphs and data dispersion\n",
        "\n",
        "Outliers greater than 6000"
      ]
    },
    {
      "cell_type": "code",
      "metadata": {
        "id": "De5Ndz__nysV",
        "outputId": "7f3d90c2-e43f-4405-9ce3-50ca916a3348",
        "colab": {
          "base_uri": "https://localhost:8080/",
          "height": 457
        }
      },
      "source": [
        "## Remove the outliers\n",
        "# first created the zip between the column and the value over which there are outliers\n",
        "vars_with_outliers_threshold_high = [(\"V4\", 15), (\"V5\", 40), (\"V6\", 25), (\"V7\", 60), (\"V9\", 15), (\"V10\", 20), (\"V13\", 6), (\"V15\", 6), (\"V16\", 10), (\"V20\", 27), (\"V21\", 20), (\"V22\", 10), (\"V24\", 25), (\"V27\", 13), (\"V28\", 20), (\"Amount\", 6000)]\n",
        "vars_with_outliers_threshold_low = [(\"V1\", -40), (\"V2\", -40), (\"V3\", -35), (\"V5\", -40), (\"V19\", -6), (\"V20\", -40), (\"V21\", -20), (\"V22\", -10), (\"V23\", -40), (\"V25\", -10), (\"V26\", -2), (\"V27\", -10), (\"V28\", -10)]\n",
        "\n",
        "# for loops to get rid of the outliers greater and lower than threshold\n",
        "for var_name, threshold in vars_with_outliers_threshold_high:\n",
        "    cc_train_df = cc_train_df[cc_train_df[var_name] < threshold]\n",
        "    \n",
        "cc_train_df\n",
        "\n",
        "for var_name, threshold in vars_with_outliers_threshold_low:\n",
        "    cc_train_df = cc_train_df[cc_train_df[var_name] > threshold]\n",
        "    \n",
        "cc_train_df"
      ],
      "execution_count": 15,
      "outputs": [
        {
          "output_type": "execute_result",
          "data": {
            "text/html": [
              "<div>\n",
              "<style scoped>\n",
              "    .dataframe tbody tr th:only-of-type {\n",
              "        vertical-align: middle;\n",
              "    }\n",
              "\n",
              "    .dataframe tbody tr th {\n",
              "        vertical-align: top;\n",
              "    }\n",
              "\n",
              "    .dataframe thead th {\n",
              "        text-align: right;\n",
              "    }\n",
              "</style>\n",
              "<table border=\"1\" class=\"dataframe\">\n",
              "  <thead>\n",
              "    <tr style=\"text-align: right;\">\n",
              "      <th></th>\n",
              "      <th>Time</th>\n",
              "      <th>V1</th>\n",
              "      <th>V2</th>\n",
              "      <th>V3</th>\n",
              "      <th>V4</th>\n",
              "      <th>V5</th>\n",
              "      <th>V6</th>\n",
              "      <th>V7</th>\n",
              "      <th>V8</th>\n",
              "      <th>V9</th>\n",
              "      <th>V10</th>\n",
              "      <th>V11</th>\n",
              "      <th>V12</th>\n",
              "      <th>V13</th>\n",
              "      <th>V14</th>\n",
              "      <th>V15</th>\n",
              "      <th>V16</th>\n",
              "      <th>V17</th>\n",
              "      <th>V18</th>\n",
              "      <th>V19</th>\n",
              "      <th>V20</th>\n",
              "      <th>V21</th>\n",
              "      <th>V22</th>\n",
              "      <th>V23</th>\n",
              "      <th>V24</th>\n",
              "      <th>V25</th>\n",
              "      <th>V26</th>\n",
              "      <th>V27</th>\n",
              "      <th>V28</th>\n",
              "      <th>Amount</th>\n",
              "      <th>Class</th>\n",
              "    </tr>\n",
              "    <tr>\n",
              "      <th>Id</th>\n",
              "      <th></th>\n",
              "      <th></th>\n",
              "      <th></th>\n",
              "      <th></th>\n",
              "      <th></th>\n",
              "      <th></th>\n",
              "      <th></th>\n",
              "      <th></th>\n",
              "      <th></th>\n",
              "      <th></th>\n",
              "      <th></th>\n",
              "      <th></th>\n",
              "      <th></th>\n",
              "      <th></th>\n",
              "      <th></th>\n",
              "      <th></th>\n",
              "      <th></th>\n",
              "      <th></th>\n",
              "      <th></th>\n",
              "      <th></th>\n",
              "      <th></th>\n",
              "      <th></th>\n",
              "      <th></th>\n",
              "      <th></th>\n",
              "      <th></th>\n",
              "      <th></th>\n",
              "      <th></th>\n",
              "      <th></th>\n",
              "      <th></th>\n",
              "      <th></th>\n",
              "      <th></th>\n",
              "    </tr>\n",
              "  </thead>\n",
              "  <tbody>\n",
              "    <tr>\n",
              "      <th>1</th>\n",
              "      <td>33419.0</td>\n",
              "      <td>-2.178201</td>\n",
              "      <td>-3.132187</td>\n",
              "      <td>1.315758</td>\n",
              "      <td>-0.129783</td>\n",
              "      <td>-2.736013</td>\n",
              "      <td>0.743459</td>\n",
              "      <td>-0.752718</td>\n",
              "      <td>-2.650826</td>\n",
              "      <td>-0.184284</td>\n",
              "      <td>-1.392226</td>\n",
              "      <td>-1.114831</td>\n",
              "      <td>0.253591</td>\n",
              "      <td>-0.428280</td>\n",
              "      <td>-0.724290</td>\n",
              "      <td>-2.442338</td>\n",
              "      <td>0.649252</td>\n",
              "      <td>1.192440</td>\n",
              "      <td>-1.782696</td>\n",
              "      <td>0.014677</td>\n",
              "      <td>2.534626</td>\n",
              "      <td>-0.828762</td>\n",
              "      <td>-0.219136</td>\n",
              "      <td>-1.004913</td>\n",
              "      <td>0.788588</td>\n",
              "      <td>1.061994</td>\n",
              "      <td>-0.319407</td>\n",
              "      <td>-0.132313</td>\n",
              "      <td>0.333476</td>\n",
              "      <td>937.75</td>\n",
              "      <td>0</td>\n",
              "    </tr>\n",
              "    <tr>\n",
              "      <th>2</th>\n",
              "      <td>151317.0</td>\n",
              "      <td>2.064423</td>\n",
              "      <td>0.185575</td>\n",
              "      <td>-1.684612</td>\n",
              "      <td>0.411066</td>\n",
              "      <td>0.479555</td>\n",
              "      <td>-0.797963</td>\n",
              "      <td>0.205544</td>\n",
              "      <td>-0.240568</td>\n",
              "      <td>0.415454</td>\n",
              "      <td>-0.401418</td>\n",
              "      <td>-0.411296</td>\n",
              "      <td>0.439120</td>\n",
              "      <td>0.554022</td>\n",
              "      <td>-0.936324</td>\n",
              "      <td>0.196285</td>\n",
              "      <td>0.227611</td>\n",
              "      <td>0.510030</td>\n",
              "      <td>-0.465360</td>\n",
              "      <td>-0.031358</td>\n",
              "      <td>-0.130661</td>\n",
              "      <td>-0.351331</td>\n",
              "      <td>-0.876025</td>\n",
              "      <td>0.343288</td>\n",
              "      <td>0.522189</td>\n",
              "      <td>-0.259568</td>\n",
              "      <td>0.173623</td>\n",
              "      <td>-0.056280</td>\n",
              "      <td>-0.029665</td>\n",
              "      <td>1.98</td>\n",
              "      <td>0</td>\n",
              "    </tr>\n",
              "    <tr>\n",
              "      <th>3</th>\n",
              "      <td>132434.0</td>\n",
              "      <td>-0.547505</td>\n",
              "      <td>0.798072</td>\n",
              "      <td>-0.719939</td>\n",
              "      <td>-1.129561</td>\n",
              "      <td>0.925708</td>\n",
              "      <td>0.763338</td>\n",
              "      <td>0.231338</td>\n",
              "      <td>0.799204</td>\n",
              "      <td>-0.277812</td>\n",
              "      <td>-0.348452</td>\n",
              "      <td>0.511676</td>\n",
              "      <td>-0.034514</td>\n",
              "      <td>-1.390963</td>\n",
              "      <td>1.067757</td>\n",
              "      <td>0.423194</td>\n",
              "      <td>-0.262177</td>\n",
              "      <td>-0.003822</td>\n",
              "      <td>-0.601821</td>\n",
              "      <td>-0.988247</td>\n",
              "      <td>-0.313966</td>\n",
              "      <td>0.366664</td>\n",
              "      <td>1.068933</td>\n",
              "      <td>-0.101523</td>\n",
              "      <td>-1.604148</td>\n",
              "      <td>-0.318277</td>\n",
              "      <td>0.838076</td>\n",
              "      <td>0.012324</td>\n",
              "      <td>-0.015564</td>\n",
              "      <td>11.95</td>\n",
              "      <td>0</td>\n",
              "    </tr>\n",
              "    <tr>\n",
              "      <th>4</th>\n",
              "      <td>81787.0</td>\n",
              "      <td>-0.945710</td>\n",
              "      <td>0.323579</td>\n",
              "      <td>0.595681</td>\n",
              "      <td>-1.288095</td>\n",
              "      <td>0.818906</td>\n",
              "      <td>-0.748491</td>\n",
              "      <td>0.890076</td>\n",
              "      <td>-0.130671</td>\n",
              "      <td>-0.471365</td>\n",
              "      <td>-0.389743</td>\n",
              "      <td>0.537702</td>\n",
              "      <td>0.137711</td>\n",
              "      <td>-0.555964</td>\n",
              "      <td>0.457870</td>\n",
              "      <td>-0.277456</td>\n",
              "      <td>0.662419</td>\n",
              "      <td>-0.951232</td>\n",
              "      <td>-0.103400</td>\n",
              "      <td>0.466225</td>\n",
              "      <td>-0.263767</td>\n",
              "      <td>-0.371528</td>\n",
              "      <td>-1.149510</td>\n",
              "      <td>0.217859</td>\n",
              "      <td>-0.507989</td>\n",
              "      <td>-0.026857</td>\n",
              "      <td>0.591496</td>\n",
              "      <td>-0.326179</td>\n",
              "      <td>-0.007543</td>\n",
              "      <td>24.98</td>\n",
              "      <td>0</td>\n",
              "    </tr>\n",
              "    <tr>\n",
              "      <th>5</th>\n",
              "      <td>125062.0</td>\n",
              "      <td>1.898722</td>\n",
              "      <td>-0.321038</td>\n",
              "      <td>-1.771837</td>\n",
              "      <td>0.672408</td>\n",
              "      <td>0.115019</td>\n",
              "      <td>-1.267347</td>\n",
              "      <td>0.612810</td>\n",
              "      <td>-0.441070</td>\n",
              "      <td>0.450298</td>\n",
              "      <td>0.107004</td>\n",
              "      <td>-1.144233</td>\n",
              "      <td>-0.035721</td>\n",
              "      <td>-0.728277</td>\n",
              "      <td>0.565399</td>\n",
              "      <td>-0.368894</td>\n",
              "      <td>-0.494280</td>\n",
              "      <td>-0.107078</td>\n",
              "      <td>-0.658594</td>\n",
              "      <td>0.169095</td>\n",
              "      <td>-0.082106</td>\n",
              "      <td>0.015111</td>\n",
              "      <td>0.006269</td>\n",
              "      <td>-0.029094</td>\n",
              "      <td>-0.071333</td>\n",
              "      <td>0.179444</td>\n",
              "      <td>0.378225</td>\n",
              "      <td>-0.106042</td>\n",
              "      <td>-0.059506</td>\n",
              "      <td>104.36</td>\n",
              "      <td>0</td>\n",
              "    </tr>\n",
              "    <tr>\n",
              "      <th>...</th>\n",
              "      <td>...</td>\n",
              "      <td>...</td>\n",
              "      <td>...</td>\n",
              "      <td>...</td>\n",
              "      <td>...</td>\n",
              "      <td>...</td>\n",
              "      <td>...</td>\n",
              "      <td>...</td>\n",
              "      <td>...</td>\n",
              "      <td>...</td>\n",
              "      <td>...</td>\n",
              "      <td>...</td>\n",
              "      <td>...</td>\n",
              "      <td>...</td>\n",
              "      <td>...</td>\n",
              "      <td>...</td>\n",
              "      <td>...</td>\n",
              "      <td>...</td>\n",
              "      <td>...</td>\n",
              "      <td>...</td>\n",
              "      <td>...</td>\n",
              "      <td>...</td>\n",
              "      <td>...</td>\n",
              "      <td>...</td>\n",
              "      <td>...</td>\n",
              "      <td>...</td>\n",
              "      <td>...</td>\n",
              "      <td>...</td>\n",
              "      <td>...</td>\n",
              "      <td>...</td>\n",
              "      <td>...</td>\n",
              "    </tr>\n",
              "    <tr>\n",
              "      <th>199360</th>\n",
              "      <td>140177.0</td>\n",
              "      <td>2.164466</td>\n",
              "      <td>-1.721358</td>\n",
              "      <td>0.118546</td>\n",
              "      <td>-1.363516</td>\n",
              "      <td>-2.147961</td>\n",
              "      <td>-0.486731</td>\n",
              "      <td>-1.755439</td>\n",
              "      <td>-0.023992</td>\n",
              "      <td>-0.563216</td>\n",
              "      <td>1.457773</td>\n",
              "      <td>-1.097192</td>\n",
              "      <td>-0.654407</td>\n",
              "      <td>0.621714</td>\n",
              "      <td>-0.925904</td>\n",
              "      <td>0.076346</td>\n",
              "      <td>-0.105142</td>\n",
              "      <td>0.329165</td>\n",
              "      <td>0.269093</td>\n",
              "      <td>-0.346530</td>\n",
              "      <td>-0.356177</td>\n",
              "      <td>-0.123266</td>\n",
              "      <td>0.138772</td>\n",
              "      <td>0.319598</td>\n",
              "      <td>0.018634</td>\n",
              "      <td>-0.560967</td>\n",
              "      <td>-0.251774</td>\n",
              "      <td>0.060706</td>\n",
              "      <td>-0.023599</td>\n",
              "      <td>48.00</td>\n",
              "      <td>0</td>\n",
              "    </tr>\n",
              "    <tr>\n",
              "      <th>199361</th>\n",
              "      <td>71541.0</td>\n",
              "      <td>1.070134</td>\n",
              "      <td>0.181228</td>\n",
              "      <td>0.670405</td>\n",
              "      <td>1.351215</td>\n",
              "      <td>-0.617646</td>\n",
              "      <td>-1.019820</td>\n",
              "      <td>0.203157</td>\n",
              "      <td>-0.194571</td>\n",
              "      <td>-0.043719</td>\n",
              "      <td>-0.006449</td>\n",
              "      <td>-0.021080</td>\n",
              "      <td>0.380856</td>\n",
              "      <td>-0.011871</td>\n",
              "      <td>0.369452</td>\n",
              "      <td>0.981649</td>\n",
              "      <td>0.211580</td>\n",
              "      <td>-0.374066</td>\n",
              "      <td>-0.524216</td>\n",
              "      <td>-0.440469</td>\n",
              "      <td>-0.018276</td>\n",
              "      <td>-0.260380</td>\n",
              "      <td>-0.931052</td>\n",
              "      <td>0.149692</td>\n",
              "      <td>0.647047</td>\n",
              "      <td>0.204529</td>\n",
              "      <td>-0.739666</td>\n",
              "      <td>0.012326</td>\n",
              "      <td>0.046917</td>\n",
              "      <td>70.00</td>\n",
              "      <td>0</td>\n",
              "    </tr>\n",
              "    <tr>\n",
              "      <th>199362</th>\n",
              "      <td>128249.0</td>\n",
              "      <td>2.111207</td>\n",
              "      <td>-0.687175</td>\n",
              "      <td>-1.637544</td>\n",
              "      <td>-1.931276</td>\n",
              "      <td>-0.244434</td>\n",
              "      <td>-1.065946</td>\n",
              "      <td>-0.062955</td>\n",
              "      <td>-0.269111</td>\n",
              "      <td>2.439795</td>\n",
              "      <td>-1.334028</td>\n",
              "      <td>-0.857487</td>\n",
              "      <td>0.928522</td>\n",
              "      <td>-0.293575</td>\n",
              "      <td>0.177409</td>\n",
              "      <td>0.459425</td>\n",
              "      <td>-1.582800</td>\n",
              "      <td>0.227376</td>\n",
              "      <td>-0.173021</td>\n",
              "      <td>1.221354</td>\n",
              "      <td>-0.220178</td>\n",
              "      <td>0.115593</td>\n",
              "      <td>0.742015</td>\n",
              "      <td>-0.011124</td>\n",
              "      <td>0.731225</td>\n",
              "      <td>0.455436</td>\n",
              "      <td>-0.671152</td>\n",
              "      <td>0.039939</td>\n",
              "      <td>-0.051133</td>\n",
              "      <td>7.99</td>\n",
              "      <td>0</td>\n",
              "    </tr>\n",
              "    <tr>\n",
              "      <th>199363</th>\n",
              "      <td>123408.0</td>\n",
              "      <td>1.893443</td>\n",
              "      <td>0.551151</td>\n",
              "      <td>-1.145498</td>\n",
              "      <td>3.889379</td>\n",
              "      <td>0.570851</td>\n",
              "      <td>-0.580469</td>\n",
              "      <td>0.635586</td>\n",
              "      <td>-0.266040</td>\n",
              "      <td>-1.032785</td>\n",
              "      <td>1.478749</td>\n",
              "      <td>-1.421178</td>\n",
              "      <td>-0.602395</td>\n",
              "      <td>-0.938759</td>\n",
              "      <td>0.562817</td>\n",
              "      <td>-1.291184</td>\n",
              "      <td>0.346647</td>\n",
              "      <td>-0.457061</td>\n",
              "      <td>-0.707557</td>\n",
              "      <td>-1.285782</td>\n",
              "      <td>-0.302385</td>\n",
              "      <td>-0.009592</td>\n",
              "      <td>-0.038580</td>\n",
              "      <td>0.078061</td>\n",
              "      <td>0.007246</td>\n",
              "      <td>0.183011</td>\n",
              "      <td>0.016792</td>\n",
              "      <td>-0.072975</td>\n",
              "      <td>-0.056060</td>\n",
              "      <td>37.92</td>\n",
              "      <td>0</td>\n",
              "    </tr>\n",
              "    <tr>\n",
              "      <th>199364</th>\n",
              "      <td>160168.0</td>\n",
              "      <td>-6.067452</td>\n",
              "      <td>4.891426</td>\n",
              "      <td>-2.405573</td>\n",
              "      <td>-0.357747</td>\n",
              "      <td>-2.208001</td>\n",
              "      <td>2.946289</td>\n",
              "      <td>-7.743597</td>\n",
              "      <td>-14.272909</td>\n",
              "      <td>-0.509250</td>\n",
              "      <td>-2.603412</td>\n",
              "      <td>-1.928852</td>\n",
              "      <td>2.610036</td>\n",
              "      <td>0.184087</td>\n",
              "      <td>2.386579</td>\n",
              "      <td>-0.229910</td>\n",
              "      <td>1.089783</td>\n",
              "      <td>0.724788</td>\n",
              "      <td>0.664463</td>\n",
              "      <td>-0.931327</td>\n",
              "      <td>3.931755</td>\n",
              "      <td>-7.216839</td>\n",
              "      <td>3.488780</td>\n",
              "      <td>1.320159</td>\n",
              "      <td>0.598303</td>\n",
              "      <td>-0.308065</td>\n",
              "      <td>-0.261913</td>\n",
              "      <td>-0.260125</td>\n",
              "      <td>0.623409</td>\n",
              "      <td>15.25</td>\n",
              "      <td>0</td>\n",
              "    </tr>\n",
              "  </tbody>\n",
              "</table>\n",
              "<p>198736 rows × 31 columns</p>\n",
              "</div>"
            ],
            "text/plain": [
              "            Time        V1        V2  ...       V28  Amount  Class\n",
              "Id                                    ...                         \n",
              "1        33419.0 -2.178201 -3.132187  ...  0.333476  937.75      0\n",
              "2       151317.0  2.064423  0.185575  ... -0.029665    1.98      0\n",
              "3       132434.0 -0.547505  0.798072  ... -0.015564   11.95      0\n",
              "4        81787.0 -0.945710  0.323579  ... -0.007543   24.98      0\n",
              "5       125062.0  1.898722 -0.321038  ... -0.059506  104.36      0\n",
              "...          ...       ...       ...  ...       ...     ...    ...\n",
              "199360  140177.0  2.164466 -1.721358  ... -0.023599   48.00      0\n",
              "199361   71541.0  1.070134  0.181228  ...  0.046917   70.00      0\n",
              "199362  128249.0  2.111207 -0.687175  ... -0.051133    7.99      0\n",
              "199363  123408.0  1.893443  0.551151  ... -0.056060   37.92      0\n",
              "199364  160168.0 -6.067452  4.891426  ...  0.623409   15.25      0\n",
              "\n",
              "[198736 rows x 31 columns]"
            ]
          },
          "metadata": {
            "tags": []
          },
          "execution_count": 15
        }
      ]
    },
    {
      "cell_type": "markdown",
      "metadata": {
        "id": "m7BGzQFTsnSF"
      },
      "source": [
        "Fron Training set 43 outliers have been removed"
      ]
    },
    {
      "cell_type": "code",
      "metadata": {
        "id": "RL12JLPTtbIR"
      },
      "source": [
        "# correlation matrix between the features\n",
        "cc_train_df.corr()"
      ],
      "execution_count": null,
      "outputs": []
    },
    {
      "cell_type": "code",
      "metadata": {
        "id": "fJotqfyvFRFI",
        "outputId": "7d964bf3-377a-4b9c-ea8a-f7af55105f6b",
        "colab": {
          "base_uri": "https://localhost:8080/",
          "height": 599
        }
      },
      "source": [
        "# correlation array between the Class output and the other features\n",
        "cc_train_df.corr()[\"Class\"]"
      ],
      "execution_count": 16,
      "outputs": [
        {
          "output_type": "execute_result",
          "data": {
            "text/plain": [
              "Time     -0.012075\n",
              "V1       -0.095455\n",
              "V2        0.088403\n",
              "V3       -0.187832\n",
              "V4        0.132874\n",
              "V5       -0.089402\n",
              "V6       -0.048434\n",
              "V7       -0.178078\n",
              "V8        0.041927\n",
              "V9       -0.096322\n",
              "V10      -0.211447\n",
              "V11       0.155233\n",
              "V12      -0.257261\n",
              "V13      -0.003944\n",
              "V14      -0.307595\n",
              "V15      -0.003672\n",
              "V16      -0.191338\n",
              "V17      -0.319454\n",
              "V18      -0.105728\n",
              "V19       0.033639\n",
              "V20       0.022614\n",
              "V21       0.030573\n",
              "V22       0.003995\n",
              "V23      -0.012310\n",
              "V24      -0.006217\n",
              "V25       0.003205\n",
              "V26       0.004514\n",
              "V27       0.026787\n",
              "V28       0.010133\n",
              "Amount    0.007789\n",
              "Class     1.000000\n",
              "Name: Class, dtype: float64"
            ]
          },
          "metadata": {
            "tags": []
          },
          "execution_count": 16
        }
      ]
    },
    {
      "cell_type": "markdown",
      "metadata": {
        "id": "ZKg7KfmlFL57"
      },
      "source": [
        "The Correlation matrix Shows that the correlation for V13, V15 is below -0.003 and V22, V25, V26 have correlation value smaller than 0.004\n",
        "So i think this 5 features can be discarded, this can be seen also in the heatmap for the training and test set"
      ]
    },
    {
      "cell_type": "code",
      "metadata": {
        "id": "SNoCRhh-q-qa"
      },
      "source": [
        "# Heatmap of the data correlation of training set\n",
        "\n",
        "fig = px.imshow(cc_train_df.corr(), title=\"Correlation heatmap of the features from the training set\")\n",
        "fig.update_layout(height=1000)\n",
        "fig.update_xaxes(showticklabels=True, tickmode='linear').update_yaxes(showticklabels=True, tickmode='linear')\n",
        "fig.show()"
      ],
      "execution_count": null,
      "outputs": []
    },
    {
      "cell_type": "code",
      "metadata": {
        "id": "kfci-QTvrVwr"
      },
      "source": [
        "# Heatmap of the data correlation of testing set\n",
        "\n",
        "fig = px.imshow(cc_test_df.corr(), title=\"Correlation heatmap of the features from the testing set\")\n",
        "fig.update_layout(height=800)\n",
        "fig.show()"
      ],
      "execution_count": null,
      "outputs": []
    },
    {
      "cell_type": "markdown",
      "metadata": {
        "id": "XPQd0Net5Pp6"
      },
      "source": [
        "Found some features which have negligible correlation with the Class so will be removed"
      ]
    },
    {
      "cell_type": "code",
      "metadata": {
        "id": "8S2dM6GYGw0O",
        "outputId": "01a263ae-0cbe-476d-a09b-a39f8e7e817e",
        "colab": {
          "base_uri": "https://localhost:8080/",
          "height": 472
        }
      },
      "source": [
        "# to remove the features with negligible level of correlation\n",
        "\n",
        "columns_no_correlation = [\"V13\", \"V15\", \"V22\", \"V25\", \"V26\"]\n",
        "\n",
        "columns_with_correlation = [var for var in columns if var not in columns_no_correlation]\n",
        "columns_with_correlation"
      ],
      "execution_count": 17,
      "outputs": [
        {
          "output_type": "execute_result",
          "data": {
            "text/plain": [
              "['Time',\n",
              " 'V1',\n",
              " 'V2',\n",
              " 'V3',\n",
              " 'V4',\n",
              " 'V5',\n",
              " 'V6',\n",
              " 'V7',\n",
              " 'V8',\n",
              " 'V9',\n",
              " 'V10',\n",
              " 'V11',\n",
              " 'V12',\n",
              " 'V14',\n",
              " 'V16',\n",
              " 'V17',\n",
              " 'V18',\n",
              " 'V19',\n",
              " 'V20',\n",
              " 'V21',\n",
              " 'V23',\n",
              " 'V24',\n",
              " 'V27',\n",
              " 'V28',\n",
              " 'Amount']"
            ]
          },
          "metadata": {
            "tags": []
          },
          "execution_count": 17
        }
      ]
    },
    {
      "cell_type": "markdown",
      "metadata": {
        "id": "7-Mv24o3HqnW"
      },
      "source": [
        "## Statistical Modelling\n",
        "\n",
        "Statistical modelling of the data with Linear regression"
      ]
    },
    {
      "cell_type": "code",
      "metadata": {
        "id": "z7iqJpOUHpyP"
      },
      "source": [
        "## Build a function to construct a formula string\n",
        "def build_formula_string(response_var, cat_vars, num_vars):\n",
        "    categorical_list = [\"C({})\".format(var) for var in cat_vars]\n",
        "    categorical_string = \" + \".join(categorical_list)\n",
        "    numeric_string = \" + \".join(num_vars)\n",
        "    formula_string = \"{} ~ {} + {}\".format(response_var, categorical_string, numeric_string)\n",
        "    \n",
        "    return formula_string\n"
      ],
      "execution_count": 18,
      "outputs": []
    },
    {
      "cell_type": "code",
      "metadata": {
        "id": "bIvVrL9nJM4G",
        "outputId": "5b5ae598-5333-4640-bba6-49db97c34116",
        "colab": {
          "base_uri": "https://localhost:8080/",
          "height": 35
        }
      },
      "source": [
        "# create the formula string to be used for statsmodel\n",
        "\n",
        "numeric_data = columns_with_correlation\n",
        "categorical_data = []\n",
        "\n",
        "formula_string = build_formula_string(\"Class\", categorical_data, numeric_data)\n",
        "\n",
        "formula_string"
      ],
      "execution_count": 19,
      "outputs": [
        {
          "output_type": "execute_result",
          "data": {
            "application/vnd.google.colaboratory.intrinsic+json": {
              "type": "string"
            },
            "text/plain": [
              "'Class ~  + Time + V1 + V2 + V3 + V4 + V5 + V6 + V7 + V8 + V9 + V10 + V11 + V12 + V14 + V16 + V17 + V18 + V19 + V20 + V21 + V23 + V24 + V27 + V28 + Amount'"
            ]
          },
          "metadata": {
            "tags": []
          },
          "execution_count": 19
        }
      ]
    },
    {
      "cell_type": "code",
      "metadata": {
        "id": "cxEkpl7_JsKx"
      },
      "source": [
        "# fitting the statsmodel and visualizing the summary\n",
        "\n",
        "baseline_model = smf.ols(formula_string, cc_train_df).fit()\n",
        "baseline_model.summary()"
      ],
      "execution_count": null,
      "outputs": []
    },
    {
      "cell_type": "code",
      "metadata": {
        "id": "SQiUiCq-0kIj"
      },
      "source": [
        "## Function-ize the fitted vs residual plots, and the qq plot\n",
        "def plot_fitted_vs_resid(fitted_values, residuals, model_name):\n",
        "    fig = px.scatter(x=fitted_values, y=residuals, labels={\"x\": \"Fitted Values\", \"y\": \"Residuals\"}, \n",
        "                      title=\"{} model, fitted values vs residuals\".format(model_name))\n",
        "    fig.show()\n",
        "    \n",
        "def plot_qq(residuals, model_name):\n",
        "    fig = sm.qqplot(residuals, fit=True, line='45')\n",
        "    plt.title(\"QQ Plot of {} model residuals\".format(model_name))\n",
        "    plt.show()\n",
        "    \n"
      ],
      "execution_count": null,
      "outputs": []
    },
    {
      "cell_type": "code",
      "metadata": {
        "id": "oTxy9yMr1xLh"
      },
      "source": [
        "# To plot the residuals and the QQ plot\n",
        "plot_fitted_vs_resid(baseline_model.fittedvalues, baseline_model.resid, \"Baseline\")\n",
        "plot_qq(baseline_model.resid, \"Baseline\")"
      ],
      "execution_count": null,
      "outputs": []
    },
    {
      "cell_type": "markdown",
      "metadata": {
        "id": "qFnqwN5q2cAR"
      },
      "source": [
        "Looking into the above graphs the  residual are not statistically independent \n",
        "and homoscedasicity, plus the residuals are not normal"
      ]
    },
    {
      "cell_type": "code",
      "metadata": {
        "id": "crGx42ln6_Mm"
      },
      "source": [
        "# function to augment the dataframe columns \n",
        "def augmented_dataframe(dataframe, response_col_name):\n",
        "  augmented_df = dataframe\n",
        "\n",
        "  ## Drop the response_variable from the augmented dataframe (we'll add it back in later)\n",
        "  augmented_df = augmented_df.drop(response_col_name, axis=1)\n",
        "\n",
        "  for col in augmented_df.columns:\n",
        "    augmented_df[col+\"_\"+str(2)] = augmented_df[col] ** 2\n",
        "    augmented_df[col+\"_\"+str(3)] = augmented_df[col] ** 3\n",
        "\n",
        "  ## Add response_col_name from dataframe back into augmented_df\n",
        "  augmented_df[response_col_name] = dataframe[response_col_name] \n",
        "\n",
        "  return augmented_df\n",
        "\n",
        "\n",
        "# function to prune the model with unnecessary features\n",
        "def prune_models(dataframe, response_col_name):\n",
        "\n",
        "  ## Define the first part of our formula string \n",
        "  init_formula_string = response_col_name + \" ~ \"\n",
        "    \n",
        "    ### Assign cols_no_response to the list of the dataframe columns\n",
        "  cols_no_response = dataframe.columns.tolist()\n",
        "    ### <Remove> the response column name\n",
        "  cols_no_response.remove(response_col_name)\n",
        "    ### <Join> the string (using ' + ') as the join seperator\n",
        "  rest_of_formula_string = \" + \".join(cols_no_response)\n",
        "    \n",
        "    ## Concat the two strings together (in a new variable) to obtain our full formula string \n",
        "  formula_string = init_formula_string + rest_of_formula_string\n",
        "\n",
        "    ## Fit the initial model variation \n",
        "  model_init = smf.ols(formula_string, data=dataframe).fit()\n",
        "    \n",
        "    ## Assign a p-values variable \n",
        "  pvalues = model_init.pvalues\n",
        "    \n",
        "    ## Find the variable with the highest p-value \n",
        "  max_p = pvalues.idxmax()\n",
        "    \n",
        "    ## alpha threshhold at 0.05 \n",
        "  alpha = 0.05\n",
        "    \n",
        "\n",
        "    # <While> loop over our p-values with the condition that the max value is above our alpha threshold \n",
        "    # Identify the variable with the maximum p-value \n",
        "    # Drop this variable from our cols_no_response list \n",
        "    # Create a new formula string \n",
        "    # Fit the new model \n",
        "    # Re-declare our p-values variable \n",
        "    # <Drop> the Intercept attribute \n",
        "    # Once our while loop breaks, return the model \n",
        "\n",
        "    \n",
        "  while pvalues.max() > alpha:\n",
        "\n",
        "    max_p = pvalues.idxmax()\n",
        "    cols_no_response.remove(max_p)\n",
        "    \n",
        "    rest_of_formula_string = \" + \".join(cols_no_response)\n",
        "    formula_string = init_formula_string + rest_of_formula_string\n",
        "        \n",
        "    model = smf.ols(formula_string, data=dataframe).fit()\n",
        "    pvalues = model.pvalues\n",
        "    pvalues = pvalues.drop(\"Intercept\")\n",
        "        \n",
        "  return model\n",
        "    \n"
      ],
      "execution_count": null,
      "outputs": []
    },
    {
      "cell_type": "code",
      "metadata": {
        "id": "nQa-2A3Z8sQn"
      },
      "source": [
        "# model with automatic pruning of the features \n",
        "\n",
        "model_with_pruned_df = prune_models(cc_train_df, \"Class\")\n",
        "model_with_pruned_df.summary()"
      ],
      "execution_count": null,
      "outputs": []
    },
    {
      "cell_type": "code",
      "metadata": {
        "id": "prFVdW-GCzUk"
      },
      "source": [
        "# augmentation and automatic pruning of the features\n",
        "augmented_test_df = augmented_dataframe(cc_train_df, \"Class\")\n",
        "\n",
        "model_aug_pruned_df = prune_models(augmented_test_df, \"Class\")\n",
        "model_aug_pruned_df.summary()"
      ],
      "execution_count": null,
      "outputs": []
    },
    {
      "cell_type": "code",
      "metadata": {
        "id": "zbHsvkZ1D793"
      },
      "source": [
        "# To plot the residuals and the QQ plot\n",
        "plot_fitted_vs_resid(model_aug_pruned_df.fittedvalues, model_aug_pruned_df.resid, \"Baseline\")\n",
        "plot_qq(model_aug_pruned_df.resid, \"Baseline\")"
      ],
      "execution_count": null,
      "outputs": []
    },
    {
      "cell_type": "markdown",
      "metadata": {
        "id": "R1M4uG9PE8HC"
      },
      "source": [
        "Tried the automatic pruning with alpha of 0.05 no improvement of the model adjusted r square\n",
        "\n",
        "Tried with augmentation up to cubic of all the columns of the dataset with automatic pruning\n",
        "the result of the  adjusted r squareis worst and theere is no improvements on the  residuals statistical independence and homoscedasicity, plus still the residuals are not normal"
      ]
    },
    {
      "cell_type": "code",
      "metadata": {
        "id": "dWquwPwXGH9l"
      },
      "source": [
        "# function to calculate the box cox transformation\n",
        "\n",
        "def calculate_and_plot_boxcox(variable, alpha=0.05, title_string=\"\", plot_lower_bound=-20, plot_upper_bound=20):\n",
        "    transformed_data, best_lambda, conf = stats.boxcox(variable, alpha=alpha)\n",
        "    lambdas, corr_coef = stats.boxcox_normplot(variable, plot_lower_bound, plot_upper_bound)\n",
        "    \n",
        "    fig = go.Figure()\n",
        "    fig.add_trace(go.Scatter(x=lambdas, y=corr_coef))\n",
        "    fig.add_shape(dict(type=\"line\", x0=best_lambda, x1=best_lambda, y0=0, y1=1))\n",
        "    fig.add_shape(dict(type=\"line\", x0=conf[0], x1=conf[0], y0=0, y1=1, line=dict(color=\"Red\", width=1)))\n",
        "    fig.add_shape(dict(type=\"line\", x0=conf[1], x1=conf[1], y0=0, y1=1, line=dict(color=\"Red\", width=1)))\n",
        "    fig.add_shape(dict(type=\"line\", x0=1, x1=1, y0=0, y1=1, line=dict(color=\"Red\", width=1, dash=\"dash\")))\n",
        "    fig.update_layout(xaxis_title=\"Lambda Value\", yaxis_title=\"Correlation Coefficient\", title=\"Box-Cox Normality Plot ({})\".format(title_string))\n",
        "    \n",
        "    # return the confidence interval too\n",
        "    return transformed_data, best_lambda, conf, fig"
      ],
      "execution_count": null,
      "outputs": []
    },
    {
      "cell_type": "markdown",
      "metadata": {
        "id": "XeVEGM7RCS1J"
      },
      "source": [
        "As in the data frame there are columns with negative value the box cox transformations are not working\n",
        "\n",
        "So to over come the issue i'm going to implement the solution as per:\n",
        "https://stats.stackexchange.com/questions/399435/which-constant-to-add-when-applying-box-cox-transformation-to-negative-values\n",
        "whihc says to add a constant value to all the column of that partivular feature to make them all positive"
      ]
    },
    {
      "cell_type": "code",
      "metadata": {
        "id": "VH8Y5U2IASlS"
      },
      "source": [
        "# Function to make all the column with positive value\n",
        "# takes input a the training and test data frame and a list of columns\n",
        "# for loop ove the clumns and finds the minimum value between test and training set \n",
        "# and offsets both set for the minimum value per column if the minimum is negative\n",
        "\n",
        "def positive_df(training_df, test_df, columns_list):\n",
        "  for col in columns_list:\n",
        "    min  = training_df[col].min()\n",
        "    if min > test_df[col].min():\n",
        "      min = test_df[col].min()\n",
        "    \n",
        "    if min < 0:\n",
        "      training_df[col] = training_df[col] - min\n",
        "      test_df[col] = test_df[col] - min\n",
        "  \n",
        "  return training_df, test_df\n"
      ],
      "execution_count": null,
      "outputs": []
    },
    {
      "cell_type": "code",
      "metadata": {
        "id": "GvS1wFnLI5jP"
      },
      "source": [
        "# make positive all the dataframe\n",
        "\n",
        "ps_train_df, ps_test_df = positive_df(cc_train_df, cc_test_df, columns_with_correlation)\n"
      ],
      "execution_count": null,
      "outputs": []
    },
    {
      "cell_type": "code",
      "metadata": {
        "id": "vhVmSR96GmiG"
      },
      "source": [
        "## Loop over the numeric data and print the variable name alongside the best lambda transformation and it's confidence interval\n",
        "## going to use the columns_with_correlation previously calculated\n",
        "\n",
        "eps = 1e-6\n",
        "numeric_data = columns_with_correlation\n",
        "for var in numeric_data:\n",
        "    _, best_lambda, conf, _ = calculate_and_plot_boxcox(ps_train_df[var] + eps)\n",
        "    print(var, \"\\t\", best_lambda, \"\\t\", conf)"
      ],
      "execution_count": null,
      "outputs": []
    },
    {
      "cell_type": "code",
      "metadata": {
        "id": "QCXIK7TXdO4x"
      },
      "source": [
        "I'm going to ignore all the transformation greater than 3"
      ],
      "execution_count": null,
      "outputs": []
    },
    {
      "cell_type": "code",
      "metadata": {
        "id": "2cpzIIGbV9qa"
      },
      "source": [
        "ps_train_df[\"Time_trans\"] = ps_train_df[\"Time\"]**0.5  # the lambda found is 0.77 so approximated to 0.5\n",
        "ps_test_df[\"Time_trans\"] = ps_test_df[\"Time\"]**0.5    # same transformation on the testing set\n",
        "\n",
        "ps_train_df[\"V4_trans\"] = ps_train_df[\"V4\"]**0.5  # the lambda found is 0.56 so approximated to 0.5\n",
        "ps_test_df[\"V4_trans\"] = ps_test_df[\"V4\"]**0.5    # same transformation on the testing set\n",
        "\n",
        "ps_train_df[\"V5_trans\"] = ps_train_df[\"V5\"]**1.5  # the lambda found is 1.5 \n",
        "ps_test_df[\"V5_trans\"] = ps_test_df[\"V5\"]**1.5    # same transformation on the testing set\n",
        "\n",
        "ps_train_df[\"V6_trans\"] = ps_train_df[\"V6\"]**0.5  # the lambda found is 0.41 so approximated to 0.5\n",
        "ps_test_df[\"V6_trans\"] = ps_test_df[\"V6\"]**0.5    # same transformation on the testing set\n",
        "\n",
        "ps_train_df[\"V7_trans\"] = ps_train_df[\"V7\"]**1.5  # the lambda found is 1.54 so approximated to 1.5\n",
        "ps_test_df[\"V7_trans\"] = ps_test_df[\"V7\"]**1.5    # same transformation on the testing set\n",
        "\n",
        "ps_train_df[\"V9_trans\"] = ps_train_df[\"V9\"]**0.5  # the lambda found is 0.47 so approximated to 0.5\n",
        "ps_test_df[\"V9_trans\"] = ps_test_df[\"V9\"]**0.5    # same transformation on the testing set\n",
        "\n",
        "ps_train_df[\"V10_trans\"] = ps_train_df[\"V10\"]**0.5  # the lambda found is 0.72 so approximated to 0.5\n",
        "ps_test_df[\"V10_trans\"] = ps_test_df[\"V10\"]**0.5    # same transformation on the testing set\n",
        "\n",
        "ps_train_df[\"V11_trans\"] = ps_train_df[\"V11\"]**0.5  # the lambda found is 0.58 so approximated to 0.5\n",
        "ps_test_df[\"V11_trans\"] = ps_test_df[\"V11\"]**0.5    # same transformation on the testing set\n",
        "\n",
        "ps_train_df[\"V14_trans\"] = ps_train_df[\"V14\"]**3  # the lambda found is 3.46 so approximated to 3\n",
        "ps_test_df[\"V14_trans\"] = ps_test_df[\"V14\"]**3    # same transformation on the testing set\n",
        "\n",
        "ps_train_df[\"V16_trans\"] = ps_train_df[\"V16\"]**3  # the lambda found is 3.12 so approximated to 3\n",
        "ps_test_df[\"V16_trans\"] = ps_test_df[\"V16\"]**3    # same transformation on the testing set\n",
        "\n",
        "ps_train_df[\"V17_trans\"] = ps_train_df[\"V17\"]**3  # the lambda found is 2.8 so approximated to 3\n",
        "ps_test_df[\"V17_trans\"] = ps_test_df[\"V17\"]**3    # same transformation on the testing set\n",
        "\n",
        "ps_train_df[\"V18_trans\"] = ps_train_df[\"V18\"]**1.5  # the lambda found is 1.56 so approximated to 1.5\n",
        "ps_test_df[\"V18_trans\"] = ps_test_df[\"V18\"]**1.5    # same transformation on the testing set\n",
        "\n",
        "ps_train_df[\"V20_trans\"] = ps_train_df[\"V20\"]**2  # the lambda found is 1.96 so approximated to 2\n",
        "ps_test_df[\"V20_trans\"] = ps_test_df[\"V20\"]**2    # same transformation on the testing set\n",
        "\n",
        "ps_train_df[\"V21_trans\"] = np.log(ps_train_df[\"V21\"] + eps)  # the lambda found is 0.15 so approximated to log\n",
        "ps_test_df[\"V21_trans\"] = np.log(ps_test_df[\"V21\"] + eps)    # same transformation on the testing set\n",
        "\n",
        "ps_train_df[\"V23_trans\"] = ps_train_df[\"V23\"]**2  # the lambda found is 2.08 so approximated to 2\n",
        "ps_test_df[\"V23_trans\"] = ps_test_df[\"V23\"]**2    # same transformation on the testing set\n",
        "\n",
        "ps_train_df[\"V24_trans\"] = ps_train_df[\"V24\"]**1.5  # the lambda found is 1.7 so approximated to 1.5\n",
        "ps_test_df[\"V24_trans\"] = ps_test_df[\"V24\"]**1.5    # same transformation on the testing set\n",
        "\n",
        "ps_train_df[\"V27_trans\"] = ps_train_df[\"V27\"]**2  # the lambda found is 1.8 so approximated to 2\n",
        "ps_test_df[\"V27_trans\"] = ps_test_df[\"V27\"]**2    # same transformation on the testing set\n",
        "\n",
        "ps_train_df[\"Amount_trans\"] = np.log(ps_train_df[\"Amount\"] + eps)  # the lambda found is 0.12 so approximated to log\n",
        "ps_test_df[\"Amount_trans\"] = np.log(ps_test_df[\"Amount\"] + eps)    # same transformation on the testing set"
      ],
      "execution_count": null,
      "outputs": []
    },
    {
      "cell_type": "code",
      "metadata": {
        "id": "KYvYc655eP53"
      },
      "source": [
        "# Column with the new names\n",
        "column_cor_transform = ['Time_trans', 'V1', 'V2', 'V3', 'V4_trans', 'V5_trans', 'V6_trans', 'V7_trans', 'V8', 'V9_trans', 'V10_trans', 'V11_trans', 'V12', 'V14_trans', \n",
        "                        'V16_trans', 'V17_trans', 'V18_trans', 'V19', 'V20_trans', 'V21_trans', 'V23_trans', 'V24_trans', 'V27_trans', 'V28', 'Amount_trans']"
      ],
      "execution_count": null,
      "outputs": []
    },
    {
      "cell_type": "code",
      "metadata": {
        "id": "GcbHt_RKhPGP"
      },
      "source": [
        "# create the statistical model with the new columns with the transformation\n",
        "numeric_data = column_cor_transform\n",
        "categorical_data = []\n",
        "\n",
        "formula_string_trans = build_formula_string(\"Class\", categorical_data, numeric_data)\n",
        "\n",
        "transformed_df_model = smf.ols(formula_string_trans, ps_train_df).fit()\n",
        "transformed_df_model.summary()"
      ],
      "execution_count": null,
      "outputs": []
    },
    {
      "cell_type": "code",
      "metadata": {
        "id": "TsqBJKV9jH3S"
      },
      "source": [
        "# To plot the residuals and the QQ plot\n",
        "plot_fitted_vs_resid(transformed_df_model.fittedvalues, transformed_df_model.resid, \"Baseline\")\n",
        "plot_qq(transformed_df_model.resid, \"Baseline\")"
      ],
      "execution_count": null,
      "outputs": []
    },
    {
      "cell_type": "markdown",
      "metadata": {
        "id": "4waZNWT47sd8"
      },
      "source": [
        "All the Above was done under the assumption that the use of linear regression model needs to be used along with his assumption but that is my wrong assumption\n",
        "\n",
        "The Logistic regression needs to be used along with his assumption which are different from the Linear regression\n"
      ]
    },
    {
      "cell_type": "markdown",
      "metadata": {
        "id": "upAvxM5BYkPz"
      },
      "source": [
        "**Logistic regression with stats model**"
      ]
    },
    {
      "cell_type": "markdown",
      "metadata": {
        "id": "MnMSsxSAAPmF"
      },
      "source": [
        "Use of the stats model to check the influential Features and to drop the feature which are not relevant to the model"
      ]
    },
    {
      "cell_type": "code",
      "metadata": {
        "id": "vviedxl5Ye56",
        "outputId": "b1c22810-58b1-4987-8e23-8d6640b3ccca",
        "colab": {
          "base_uri": "https://localhost:8080/",
          "height": 890
        }
      },
      "source": [
        "base_regression_model = smf.logit(formula_string, cc_train_df).fit()\n",
        "\n",
        "base_regression_model.summary()"
      ],
      "execution_count": 20,
      "outputs": [
        {
          "output_type": "stream",
          "text": [
            "Optimization terminated successfully.\n",
            "         Current function value: 0.003979\n",
            "         Iterations 13\n"
          ],
          "name": "stdout"
        },
        {
          "output_type": "execute_result",
          "data": {
            "text/html": [
              "<table class=\"simpletable\">\n",
              "<caption>Logit Regression Results</caption>\n",
              "<tr>\n",
              "  <th>Dep. Variable:</th>         <td>Class</td>      <th>  No. Observations:  </th>  <td>198736</td> \n",
              "</tr>\n",
              "<tr>\n",
              "  <th>Model:</th>                 <td>Logit</td>      <th>  Df Residuals:      </th>  <td>198710</td> \n",
              "</tr>\n",
              "<tr>\n",
              "  <th>Method:</th>                 <td>MLE</td>       <th>  Df Model:          </th>  <td>    25</td> \n",
              "</tr>\n",
              "<tr>\n",
              "  <th>Date:</th>            <td>Sun, 25 Oct 2020</td> <th>  Pseudo R-squ.:     </th>  <td>0.6938</td> \n",
              "</tr>\n",
              "<tr>\n",
              "  <th>Time:</th>                <td>22:16:23</td>     <th>  Log-Likelihood:    </th> <td> -790.73</td>\n",
              "</tr>\n",
              "<tr>\n",
              "  <th>converged:</th>             <td>True</td>       <th>  LL-Null:           </th> <td> -2582.0</td>\n",
              "</tr>\n",
              "<tr>\n",
              "  <th>Covariance Type:</th>     <td>nonrobust</td>    <th>  LLR p-value:       </th>  <td> 0.000</td> \n",
              "</tr>\n",
              "</table>\n",
              "<table class=\"simpletable\">\n",
              "<tr>\n",
              "      <td></td>         <th>coef</th>     <th>std err</th>      <th>z</th>      <th>P>|z|</th>  <th>[0.025</th>    <th>0.975]</th>  \n",
              "</tr>\n",
              "<tr>\n",
              "  <th>Intercept</th> <td>   -8.5744</td> <td>    0.279</td> <td>  -30.757</td> <td> 0.000</td> <td>   -9.121</td> <td>   -8.028</td>\n",
              "</tr>\n",
              "<tr>\n",
              "  <th>Time</th>      <td>-2.694e-07</td> <td> 2.41e-06</td> <td>   -0.112</td> <td> 0.911</td> <td>   -5e-06</td> <td> 4.46e-06</td>\n",
              "</tr>\n",
              "<tr>\n",
              "  <th>V1</th>        <td>    0.1193</td> <td>    0.050</td> <td>    2.380</td> <td> 0.017</td> <td>    0.021</td> <td>    0.218</td>\n",
              "</tr>\n",
              "<tr>\n",
              "  <th>V2</th>        <td>    0.0155</td> <td>    0.064</td> <td>    0.245</td> <td> 0.807</td> <td>   -0.109</td> <td>    0.140</td>\n",
              "</tr>\n",
              "<tr>\n",
              "  <th>V3</th>        <td>    0.0465</td> <td>    0.062</td> <td>    0.747</td> <td> 0.455</td> <td>   -0.075</td> <td>    0.168</td>\n",
              "</tr>\n",
              "<tr>\n",
              "  <th>V4</th>        <td>    0.6662</td> <td>    0.083</td> <td>    8.038</td> <td> 0.000</td> <td>    0.504</td> <td>    0.829</td>\n",
              "</tr>\n",
              "<tr>\n",
              "  <th>V5</th>        <td>    0.1340</td> <td>    0.073</td> <td>    1.836</td> <td> 0.066</td> <td>   -0.009</td> <td>    0.277</td>\n",
              "</tr>\n",
              "<tr>\n",
              "  <th>V6</th>        <td>   -0.1045</td> <td>    0.080</td> <td>   -1.312</td> <td> 0.190</td> <td>   -0.261</td> <td>    0.052</td>\n",
              "</tr>\n",
              "<tr>\n",
              "  <th>V7</th>        <td>   -0.1018</td> <td>    0.077</td> <td>   -1.327</td> <td> 0.185</td> <td>   -0.252</td> <td>    0.049</td>\n",
              "</tr>\n",
              "<tr>\n",
              "  <th>V8</th>        <td>   -0.2185</td> <td>    0.039</td> <td>   -5.653</td> <td> 0.000</td> <td>   -0.294</td> <td>   -0.143</td>\n",
              "</tr>\n",
              "<tr>\n",
              "  <th>V9</th>        <td>   -0.2826</td> <td>    0.122</td> <td>   -2.323</td> <td> 0.020</td> <td>   -0.521</td> <td>   -0.044</td>\n",
              "</tr>\n",
              "<tr>\n",
              "  <th>V10</th>       <td>   -0.7896</td> <td>    0.115</td> <td>   -6.869</td> <td> 0.000</td> <td>   -1.015</td> <td>   -0.564</td>\n",
              "</tr>\n",
              "<tr>\n",
              "  <th>V11</th>       <td>    0.0283</td> <td>    0.096</td> <td>    0.295</td> <td> 0.768</td> <td>   -0.160</td> <td>    0.216</td>\n",
              "</tr>\n",
              "<tr>\n",
              "  <th>V12</th>       <td>    0.0433</td> <td>    0.098</td> <td>    0.442</td> <td> 0.659</td> <td>   -0.149</td> <td>    0.235</td>\n",
              "</tr>\n",
              "<tr>\n",
              "  <th>V14</th>       <td>   -0.5573</td> <td>    0.074</td> <td>   -7.522</td> <td> 0.000</td> <td>   -0.703</td> <td>   -0.412</td>\n",
              "</tr>\n",
              "<tr>\n",
              "  <th>V16</th>       <td>   -0.2578</td> <td>    0.129</td> <td>   -1.993</td> <td> 0.046</td> <td>   -0.511</td> <td>   -0.004</td>\n",
              "</tr>\n",
              "<tr>\n",
              "  <th>V17</th>       <td>   -0.1284</td> <td>    0.081</td> <td>   -1.583</td> <td> 0.113</td> <td>   -0.287</td> <td>    0.031</td>\n",
              "</tr>\n",
              "<tr>\n",
              "  <th>V18</th>       <td>    0.0535</td> <td>    0.139</td> <td>    0.385</td> <td> 0.701</td> <td>   -0.219</td> <td>    0.326</td>\n",
              "</tr>\n",
              "<tr>\n",
              "  <th>V19</th>       <td>    0.0544</td> <td>    0.106</td> <td>    0.515</td> <td> 0.607</td> <td>   -0.153</td> <td>    0.262</td>\n",
              "</tr>\n",
              "<tr>\n",
              "  <th>V20</th>       <td>   -0.4094</td> <td>    0.106</td> <td>   -3.864</td> <td> 0.000</td> <td>   -0.617</td> <td>   -0.202</td>\n",
              "</tr>\n",
              "<tr>\n",
              "  <th>V21</th>       <td>    0.1701</td> <td>    0.054</td> <td>    3.123</td> <td> 0.002</td> <td>    0.063</td> <td>    0.277</td>\n",
              "</tr>\n",
              "<tr>\n",
              "  <th>V23</th>       <td>   -0.0580</td> <td>    0.061</td> <td>   -0.947</td> <td> 0.344</td> <td>   -0.178</td> <td>    0.062</td>\n",
              "</tr>\n",
              "<tr>\n",
              "  <th>V24</th>       <td>    0.2765</td> <td>    0.171</td> <td>    1.621</td> <td> 0.105</td> <td>   -0.058</td> <td>    0.611</td>\n",
              "</tr>\n",
              "<tr>\n",
              "  <th>V27</th>       <td>   -0.9471</td> <td>    0.164</td> <td>   -5.775</td> <td> 0.000</td> <td>   -1.269</td> <td>   -0.626</td>\n",
              "</tr>\n",
              "<tr>\n",
              "  <th>V28</th>       <td>   -0.4333</td> <td>    0.149</td> <td>   -2.909</td> <td> 0.004</td> <td>   -0.725</td> <td>   -0.141</td>\n",
              "</tr>\n",
              "<tr>\n",
              "  <th>Amount</th>    <td>    0.0013</td> <td>    0.000</td> <td>    2.797</td> <td> 0.005</td> <td>    0.000</td> <td>    0.002</td>\n",
              "</tr>\n",
              "</table><br/><br/>Possibly complete quasi-separation: A fraction 0.24 of observations can be<br/>perfectly predicted. This might indicate that there is complete<br/>quasi-separation. In this case some parameters will not be identified."
            ],
            "text/plain": [
              "<class 'statsmodels.iolib.summary.Summary'>\n",
              "\"\"\"\n",
              "                           Logit Regression Results                           \n",
              "==============================================================================\n",
              "Dep. Variable:                  Class   No. Observations:               198736\n",
              "Model:                          Logit   Df Residuals:                   198710\n",
              "Method:                           MLE   Df Model:                           25\n",
              "Date:                Sun, 25 Oct 2020   Pseudo R-squ.:                  0.6938\n",
              "Time:                        22:16:23   Log-Likelihood:                -790.73\n",
              "converged:                       True   LL-Null:                       -2582.0\n",
              "Covariance Type:            nonrobust   LLR p-value:                     0.000\n",
              "==============================================================================\n",
              "                 coef    std err          z      P>|z|      [0.025      0.975]\n",
              "------------------------------------------------------------------------------\n",
              "Intercept     -8.5744      0.279    -30.757      0.000      -9.121      -8.028\n",
              "Time       -2.694e-07   2.41e-06     -0.112      0.911      -5e-06    4.46e-06\n",
              "V1             0.1193      0.050      2.380      0.017       0.021       0.218\n",
              "V2             0.0155      0.064      0.245      0.807      -0.109       0.140\n",
              "V3             0.0465      0.062      0.747      0.455      -0.075       0.168\n",
              "V4             0.6662      0.083      8.038      0.000       0.504       0.829\n",
              "V5             0.1340      0.073      1.836      0.066      -0.009       0.277\n",
              "V6            -0.1045      0.080     -1.312      0.190      -0.261       0.052\n",
              "V7            -0.1018      0.077     -1.327      0.185      -0.252       0.049\n",
              "V8            -0.2185      0.039     -5.653      0.000      -0.294      -0.143\n",
              "V9            -0.2826      0.122     -2.323      0.020      -0.521      -0.044\n",
              "V10           -0.7896      0.115     -6.869      0.000      -1.015      -0.564\n",
              "V11            0.0283      0.096      0.295      0.768      -0.160       0.216\n",
              "V12            0.0433      0.098      0.442      0.659      -0.149       0.235\n",
              "V14           -0.5573      0.074     -7.522      0.000      -0.703      -0.412\n",
              "V16           -0.2578      0.129     -1.993      0.046      -0.511      -0.004\n",
              "V17           -0.1284      0.081     -1.583      0.113      -0.287       0.031\n",
              "V18            0.0535      0.139      0.385      0.701      -0.219       0.326\n",
              "V19            0.0544      0.106      0.515      0.607      -0.153       0.262\n",
              "V20           -0.4094      0.106     -3.864      0.000      -0.617      -0.202\n",
              "V21            0.1701      0.054      3.123      0.002       0.063       0.277\n",
              "V23           -0.0580      0.061     -0.947      0.344      -0.178       0.062\n",
              "V24            0.2765      0.171      1.621      0.105      -0.058       0.611\n",
              "V27           -0.9471      0.164     -5.775      0.000      -1.269      -0.626\n",
              "V28           -0.4333      0.149     -2.909      0.004      -0.725      -0.141\n",
              "Amount         0.0013      0.000      2.797      0.005       0.000       0.002\n",
              "==============================================================================\n",
              "\n",
              "Possibly complete quasi-separation: A fraction 0.24 of observations can be\n",
              "perfectly predicted. This might indicate that there is complete\n",
              "quasi-separation. In this case some parameters will not be identified.\n",
              "\"\"\""
            ]
          },
          "metadata": {
            "tags": []
          },
          "execution_count": 20
        }
      ]
    },
    {
      "cell_type": "markdown",
      "metadata": {
        "id": "lg7yXcHgyujA"
      },
      "source": [
        "The logistic regression has different assumption and with logistic regression, the focus is on assessing the model's adequacy \n",
        "\n",
        "\n",
        "\n",
        "Reference: https://www.pythonfordatascience.org/logistic-regression-python/"
      ]
    },
    {
      "cell_type": "code",
      "metadata": {
        "id": "cnv8ArryzUUa",
        "outputId": "aea66541-9de9-4a8b-bb21-5e91ee6682bf",
        "colab": {
          "base_uri": "https://localhost:8080/",
          "height": 985
        }
      },
      "source": [
        "## Plotting multiple plots same figure\n",
        "fig, (axL, axR) = plt.subplots(2, figsize=(15, 15))\n",
        "plt.suptitle(\"Logistic Regression Residual Plots \\n using Seaborn Lowess line (N = 400)\")\n",
        "\n",
        "\n",
        "# Deviance Residuals\n",
        "sns.regplot(x=base_regression_model.fittedvalues, y=base_regression_model.resid_dev, ax= axL,\n",
        "            color=\"black\", scatter_kws={\"s\": 5},\n",
        "            line_kws={\"color\":\"b\", \"alpha\":1, \"lw\":2}, lowess=True)\n",
        "\n",
        "axL.set_title(\"Deviance Residuals \\n against Fitted Values\")\n",
        "axL.set_xlabel(\"Linear Predictor Values\")\n",
        "axL.set_ylabel(\"Deviance Residuals\")\n",
        "\n",
        "# Studentized Pearson Residuals\n",
        "sns.regplot(x=base_regression_model.fittedvalues, y=base_regression_model.resid_pearson, ax= axR,\n",
        "            color=\"black\", scatter_kws={\"s\": 5},\n",
        "            line_kws={\"color\":\"g\", \"alpha\":1, \"lw\":2}, lowess=True)\n",
        "\n",
        "axR.set_title(\"Studentized Pearson Residuals \\n against Fitted Values\")\n",
        "axR.set_xlabel(\"Linear Predictor Values\")\n",
        "axR.set_ylabel(\"Studentized Pearson Residuals\")\n",
        "\n",
        "plt.show()"
      ],
      "execution_count": null,
      "outputs": [
        {
          "output_type": "display_data",
          "data": {
            "image/png": "[encoded data removed]",
            "text/plain": [
              "<Figure size 1080x1080 with 2 Axes>"
            ]
          },
          "metadata": {
            "tags": [],
            "needs_background": "light"
          }
        }
      ]
    },
    {
      "cell_type": "markdown",
      "metadata": {
        "id": "h_fjp-Lca5iM"
      },
      "source": [
        "From : https://medium.com/@dhiraj8899/top-5-assumptions-for-logistic-regression-96b11d24d357\n",
        "\n",
        "There are 5 assumption for the logistic regression:\n",
        "\n",
        "1.   The logistic regression assumes that there is minimal or no multicollinearity among the independent variables. \n",
        "2.   The Logistic regression assumes that the independent variables are linearly related to the log of odds.\n",
        "3. The logistic regression usually requires a large sample size to predict properly.\n",
        "4. The Logistic regression which has two classes assumes that the dependent variable is binary and ordered logistic regression requires the dependent variable to be ordered, for example Too Little, About Right, Too Much.\n",
        "5. The Logistic regression assumes the observations to be independent of each other."
      ]
    },
    {
      "cell_type": "markdown",
      "metadata": {
        "id": "sDTz890bbZYU"
      },
      "source": [
        "Check on the Logistic regression assumption\n",
        "\n",
        "1.   The heatmap of the dataframe shows no correlation between the features\n",
        "2.   The graphs of logit value against the features should be linear \n",
        "3.   The datset is quite large so should satisfy the assumption\n",
        "4.   The logistic regression has one class with binary value so should satify the assumption\n",
        "5.   The data don't have the duplicates so the observation are indipendent\n",
        "\n",
        "\n"
      ]
    },
    {
      "cell_type": "code",
      "metadata": {
        "id": "NfRk3tpZguUW",
        "outputId": "76c96ad8-5bdc-4112-8f19-d34cb73173f8",
        "colab": {
          "base_uri": "https://localhost:8080/",
          "height": 358
        }
      },
      "source": [
        "# Anova doesn't run on the logistic regression logit model\n",
        "\n",
        "sm.stats.anova_lm(base_regression_model, test=\"Chisq\", typ=3)"
      ],
      "execution_count": null,
      "outputs": [
        {
          "output_type": "error",
          "ename": "AttributeError",
          "evalue": "ignored",
          "traceback": [
            "\u001b[0;31m---------------------------------------------------------------------------\u001b[0m",
            "\u001b[0;31mAttributeError\u001b[0m                            Traceback (most recent call last)",
            "\u001b[0;32m<ipython-input-33-dfcd7c83d54e>\u001b[0m in \u001b[0;36m<module>\u001b[0;34m()\u001b[0m\n\u001b[1;32m      1\u001b[0m \u001b[0;31m# Anova doesn't run on the logistic regression model logit model\u001b[0m\u001b[0;34m\u001b[0m\u001b[0;34m\u001b[0m\u001b[0;34m\u001b[0m\u001b[0m\n\u001b[1;32m      2\u001b[0m \u001b[0;34m\u001b[0m\u001b[0m\n\u001b[0;32m----> 3\u001b[0;31m \u001b[0msm\u001b[0m\u001b[0;34m.\u001b[0m\u001b[0mstats\u001b[0m\u001b[0;34m.\u001b[0m\u001b[0manova_lm\u001b[0m\u001b[0;34m(\u001b[0m\u001b[0mbase_regression_model\u001b[0m\u001b[0;34m,\u001b[0m \u001b[0mtest\u001b[0m\u001b[0;34m=\u001b[0m\u001b[0;34m\"Chisq\"\u001b[0m\u001b[0;34m,\u001b[0m \u001b[0mtyp\u001b[0m\u001b[0;34m=\u001b[0m\u001b[0;36m3\u001b[0m\u001b[0;34m)\u001b[0m\u001b[0;34m\u001b[0m\u001b[0;34m\u001b[0m\u001b[0m\n\u001b[0m",
            "\u001b[0;32m/usr/local/lib/python3.6/dist-packages/statsmodels/stats/anova.py\u001b[0m in \u001b[0;36manova_lm\u001b[0;34m(*args, **kwargs)\u001b[0m\n\u001b[1;32m    349\u001b[0m     \u001b[0;32mif\u001b[0m \u001b[0mlen\u001b[0m\u001b[0;34m(\u001b[0m\u001b[0margs\u001b[0m\u001b[0;34m)\u001b[0m \u001b[0;34m==\u001b[0m \u001b[0;36m1\u001b[0m\u001b[0;34m:\u001b[0m\u001b[0;34m\u001b[0m\u001b[0;34m\u001b[0m\u001b[0m\n\u001b[1;32m    350\u001b[0m         \u001b[0mmodel\u001b[0m \u001b[0;34m=\u001b[0m \u001b[0margs\u001b[0m\u001b[0;34m[\u001b[0m\u001b[0;36m0\u001b[0m\u001b[0;34m]\u001b[0m\u001b[0;34m\u001b[0m\u001b[0;34m\u001b[0m\u001b[0m\n\u001b[0;32m--> 351\u001b[0;31m         \u001b[0;32mreturn\u001b[0m \u001b[0manova_single\u001b[0m\u001b[0;34m(\u001b[0m\u001b[0mmodel\u001b[0m\u001b[0;34m,\u001b[0m \u001b[0;34m**\u001b[0m\u001b[0mkwargs\u001b[0m\u001b[0;34m)\u001b[0m\u001b[0;34m\u001b[0m\u001b[0;34m\u001b[0m\u001b[0m\n\u001b[0m\u001b[1;32m    352\u001b[0m \u001b[0;34m\u001b[0m\u001b[0m\n\u001b[1;32m    353\u001b[0m     \u001b[0;32mif\u001b[0m \u001b[0mtyp\u001b[0m \u001b[0;32mnot\u001b[0m \u001b[0;32min\u001b[0m \u001b[0;34m[\u001b[0m\u001b[0;36m1\u001b[0m\u001b[0;34m,\u001b[0m \u001b[0;34m\"I\"\u001b[0m\u001b[0;34m]\u001b[0m\u001b[0;34m:\u001b[0m\u001b[0;34m\u001b[0m\u001b[0;34m\u001b[0m\u001b[0m\n",
            "\u001b[0;32m/usr/local/lib/python3.6/dist-packages/statsmodels/stats/anova.py\u001b[0m in \u001b[0;36manova_single\u001b[0;34m(model, **kwargs)\u001b[0m\n\u001b[1;32m     84\u001b[0m     \u001b[0;32melif\u001b[0m \u001b[0mtyp\u001b[0m \u001b[0;32min\u001b[0m \u001b[0;34m[\u001b[0m\u001b[0;36m3\u001b[0m\u001b[0;34m,\u001b[0m \u001b[0;34m\"III\"\u001b[0m\u001b[0;34m]\u001b[0m\u001b[0;34m:\u001b[0m\u001b[0;34m\u001b[0m\u001b[0;34m\u001b[0m\u001b[0m\n\u001b[1;32m     85\u001b[0m         return anova3_lm_single(model, design_info, n_rows, test, pr_test,\n\u001b[0;32m---> 86\u001b[0;31m                                 robust)\n\u001b[0m\u001b[1;32m     87\u001b[0m     \u001b[0;32melif\u001b[0m \u001b[0mtyp\u001b[0m \u001b[0;32min\u001b[0m \u001b[0;34m[\u001b[0m\u001b[0;36m4\u001b[0m\u001b[0;34m,\u001b[0m \u001b[0;34m\"IV\"\u001b[0m\u001b[0;34m]\u001b[0m\u001b[0;34m:\u001b[0m\u001b[0;34m\u001b[0m\u001b[0;34m\u001b[0m\u001b[0m\n\u001b[1;32m     88\u001b[0m         \u001b[0;32mraise\u001b[0m \u001b[0mNotImplementedError\u001b[0m\u001b[0;34m(\u001b[0m\u001b[0;34m\"Type IV not yet implemented\"\u001b[0m\u001b[0;34m)\u001b[0m\u001b[0;34m\u001b[0m\u001b[0;34m\u001b[0m\u001b[0m\n",
            "\u001b[0;32m/usr/local/lib/python3.6/dist-packages/statsmodels/stats/anova.py\u001b[0m in \u001b[0;36manova3_lm_single\u001b[0;34m(model, design_info, n_rows, test, pr_test, robust)\u001b[0m\n\u001b[1;32m    265\u001b[0m     \u001b[0;31m#table = table.iloc[np.argsort(col_order + [model.model.exog.shape[1]+1])]\u001b[0m\u001b[0;34m\u001b[0m\u001b[0;34m\u001b[0m\u001b[0;34m\u001b[0m\u001b[0m\n\u001b[1;32m    266\u001b[0m     \u001b[0;31m# back out sum of squares from f_test\u001b[0m\u001b[0;34m\u001b[0m\u001b[0;34m\u001b[0m\u001b[0;34m\u001b[0m\u001b[0m\n\u001b[0;32m--> 267\u001b[0;31m     \u001b[0mssr\u001b[0m \u001b[0;34m=\u001b[0m \u001b[0mtable\u001b[0m\u001b[0;34m[\u001b[0m\u001b[0mtest\u001b[0m\u001b[0;34m]\u001b[0m \u001b[0;34m*\u001b[0m \u001b[0mtable\u001b[0m\u001b[0;34m[\u001b[0m\u001b[0;34m'df'\u001b[0m\u001b[0;34m]\u001b[0m \u001b[0;34m*\u001b[0m \u001b[0mmodel\u001b[0m\u001b[0;34m.\u001b[0m\u001b[0mssr\u001b[0m\u001b[0;34m/\u001b[0m\u001b[0mmodel\u001b[0m\u001b[0;34m.\u001b[0m\u001b[0mdf_resid\u001b[0m\u001b[0;34m\u001b[0m\u001b[0;34m\u001b[0m\u001b[0m\n\u001b[0m\u001b[1;32m    268\u001b[0m     \u001b[0mtable\u001b[0m\u001b[0;34m[\u001b[0m\u001b[0;34m'sum_sq'\u001b[0m\u001b[0;34m]\u001b[0m \u001b[0;34m=\u001b[0m \u001b[0mssr\u001b[0m\u001b[0;34m\u001b[0m\u001b[0;34m\u001b[0m\u001b[0m\n\u001b[1;32m    269\u001b[0m     \u001b[0;31m# fill in residual\u001b[0m\u001b[0;34m\u001b[0m\u001b[0;34m\u001b[0m\u001b[0;34m\u001b[0m\u001b[0m\n",
            "\u001b[0;32m/usr/local/lib/python3.6/dist-packages/statsmodels/base/wrapper.py\u001b[0m in \u001b[0;36m__getattribute__\u001b[0;34m(self, attr)\u001b[0m\n\u001b[1;32m     33\u001b[0m             \u001b[0;32mpass\u001b[0m\u001b[0;34m\u001b[0m\u001b[0;34m\u001b[0m\u001b[0m\n\u001b[1;32m     34\u001b[0m \u001b[0;34m\u001b[0m\u001b[0m\n\u001b[0;32m---> 35\u001b[0;31m         \u001b[0mobj\u001b[0m \u001b[0;34m=\u001b[0m \u001b[0mgetattr\u001b[0m\u001b[0;34m(\u001b[0m\u001b[0mresults\u001b[0m\u001b[0;34m,\u001b[0m \u001b[0mattr\u001b[0m\u001b[0;34m)\u001b[0m\u001b[0;34m\u001b[0m\u001b[0;34m\u001b[0m\u001b[0m\n\u001b[0m\u001b[1;32m     36\u001b[0m         \u001b[0mdata\u001b[0m \u001b[0;34m=\u001b[0m \u001b[0mresults\u001b[0m\u001b[0;34m.\u001b[0m\u001b[0mmodel\u001b[0m\u001b[0;34m.\u001b[0m\u001b[0mdata\u001b[0m\u001b[0;34m\u001b[0m\u001b[0;34m\u001b[0m\u001b[0m\n\u001b[1;32m     37\u001b[0m         \u001b[0mhow\u001b[0m \u001b[0;34m=\u001b[0m \u001b[0mself\u001b[0m\u001b[0;34m.\u001b[0m\u001b[0m_wrap_attrs\u001b[0m\u001b[0;34m.\u001b[0m\u001b[0mget\u001b[0m\u001b[0;34m(\u001b[0m\u001b[0mattr\u001b[0m\u001b[0;34m)\u001b[0m\u001b[0;34m\u001b[0m\u001b[0;34m\u001b[0m\u001b[0m\n",
            "\u001b[0;31mAttributeError\u001b[0m: 'LogitResults' object has no attribute 'ssr'"
          ]
        }
      ]
    },
    {
      "cell_type": "markdown",
      "metadata": {
        "id": "cw6Gafe3A3BO"
      },
      "source": [
        "As the Anova doesn't run other way needs to be defined to check the influential and non influential features"
      ]
    },
    {
      "cell_type": "code",
      "metadata": {
        "id": "Mo07MQ5Lqb1I",
        "outputId": "ce496c98-7146-4c92-804e-e7ff94680285",
        "colab": {
          "base_uri": "https://localhost:8080/",
          "height": 835
        }
      },
      "source": [
        "base_regression_model.summary()"
      ],
      "execution_count": null,
      "outputs": [
        {
          "output_type": "execute_result",
          "data": {
            "text/html": [
              "<table class=\"simpletable\">\n",
              "<caption>Logit Regression Results</caption>\n",
              "<tr>\n",
              "  <th>Dep. Variable:</th>         <td>Class</td>      <th>  No. Observations:  </th>  <td>198736</td> \n",
              "</tr>\n",
              "<tr>\n",
              "  <th>Model:</th>                 <td>Logit</td>      <th>  Df Residuals:      </th>  <td>198710</td> \n",
              "</tr>\n",
              "<tr>\n",
              "  <th>Method:</th>                 <td>MLE</td>       <th>  Df Model:          </th>  <td>    25</td> \n",
              "</tr>\n",
              "<tr>\n",
              "  <th>Date:</th>            <td>Sat, 24 Oct 2020</td> <th>  Pseudo R-squ.:     </th>  <td>0.6938</td> \n",
              "</tr>\n",
              "<tr>\n",
              "  <th>Time:</th>                <td>17:31:04</td>     <th>  Log-Likelihood:    </th> <td> -790.73</td>\n",
              "</tr>\n",
              "<tr>\n",
              "  <th>converged:</th>             <td>True</td>       <th>  LL-Null:           </th> <td> -2582.0</td>\n",
              "</tr>\n",
              "<tr>\n",
              "  <th>Covariance Type:</th>     <td>nonrobust</td>    <th>  LLR p-value:       </th>  <td> 0.000</td> \n",
              "</tr>\n",
              "</table>\n",
              "<table class=\"simpletable\">\n",
              "<tr>\n",
              "      <td></td>         <th>coef</th>     <th>std err</th>      <th>z</th>      <th>P>|z|</th>  <th>[0.025</th>    <th>0.975]</th>  \n",
              "</tr>\n",
              "<tr>\n",
              "  <th>Intercept</th> <td>   -8.5744</td> <td>    0.279</td> <td>  -30.757</td> <td> 0.000</td> <td>   -9.121</td> <td>   -8.028</td>\n",
              "</tr>\n",
              "<tr>\n",
              "  <th>Time</th>      <td>-2.694e-07</td> <td> 2.41e-06</td> <td>   -0.112</td> <td> 0.911</td> <td>   -5e-06</td> <td> 4.46e-06</td>\n",
              "</tr>\n",
              "<tr>\n",
              "  <th>V1</th>        <td>    0.1193</td> <td>    0.050</td> <td>    2.380</td> <td> 0.017</td> <td>    0.021</td> <td>    0.218</td>\n",
              "</tr>\n",
              "<tr>\n",
              "  <th>V2</th>        <td>    0.0155</td> <td>    0.064</td> <td>    0.245</td> <td> 0.807</td> <td>   -0.109</td> <td>    0.140</td>\n",
              "</tr>\n",
              "<tr>\n",
              "  <th>V3</th>        <td>    0.0465</td> <td>    0.062</td> <td>    0.747</td> <td> 0.455</td> <td>   -0.075</td> <td>    0.168</td>\n",
              "</tr>\n",
              "<tr>\n",
              "  <th>V4</th>        <td>    0.6662</td> <td>    0.083</td> <td>    8.038</td> <td> 0.000</td> <td>    0.504</td> <td>    0.829</td>\n",
              "</tr>\n",
              "<tr>\n",
              "  <th>V5</th>        <td>    0.1340</td> <td>    0.073</td> <td>    1.836</td> <td> 0.066</td> <td>   -0.009</td> <td>    0.277</td>\n",
              "</tr>\n",
              "<tr>\n",
              "  <th>V6</th>        <td>   -0.1045</td> <td>    0.080</td> <td>   -1.312</td> <td> 0.190</td> <td>   -0.261</td> <td>    0.052</td>\n",
              "</tr>\n",
              "<tr>\n",
              "  <th>V7</th>        <td>   -0.1018</td> <td>    0.077</td> <td>   -1.327</td> <td> 0.185</td> <td>   -0.252</td> <td>    0.049</td>\n",
              "</tr>\n",
              "<tr>\n",
              "  <th>V8</th>        <td>   -0.2185</td> <td>    0.039</td> <td>   -5.653</td> <td> 0.000</td> <td>   -0.294</td> <td>   -0.143</td>\n",
              "</tr>\n",
              "<tr>\n",
              "  <th>V9</th>        <td>   -0.2826</td> <td>    0.122</td> <td>   -2.323</td> <td> 0.020</td> <td>   -0.521</td> <td>   -0.044</td>\n",
              "</tr>\n",
              "<tr>\n",
              "  <th>V10</th>       <td>   -0.7896</td> <td>    0.115</td> <td>   -6.869</td> <td> 0.000</td> <td>   -1.015</td> <td>   -0.564</td>\n",
              "</tr>\n",
              "<tr>\n",
              "  <th>V11</th>       <td>    0.0283</td> <td>    0.096</td> <td>    0.295</td> <td> 0.768</td> <td>   -0.160</td> <td>    0.216</td>\n",
              "</tr>\n",
              "<tr>\n",
              "  <th>V12</th>       <td>    0.0433</td> <td>    0.098</td> <td>    0.442</td> <td> 0.659</td> <td>   -0.149</td> <td>    0.235</td>\n",
              "</tr>\n",
              "<tr>\n",
              "  <th>V14</th>       <td>   -0.5573</td> <td>    0.074</td> <td>   -7.522</td> <td> 0.000</td> <td>   -0.703</td> <td>   -0.412</td>\n",
              "</tr>\n",
              "<tr>\n",
              "  <th>V16</th>       <td>   -0.2578</td> <td>    0.129</td> <td>   -1.993</td> <td> 0.046</td> <td>   -0.511</td> <td>   -0.004</td>\n",
              "</tr>\n",
              "<tr>\n",
              "  <th>V17</th>       <td>   -0.1284</td> <td>    0.081</td> <td>   -1.583</td> <td> 0.113</td> <td>   -0.287</td> <td>    0.031</td>\n",
              "</tr>\n",
              "<tr>\n",
              "  <th>V18</th>       <td>    0.0535</td> <td>    0.139</td> <td>    0.385</td> <td> 0.701</td> <td>   -0.219</td> <td>    0.326</td>\n",
              "</tr>\n",
              "<tr>\n",
              "  <th>V19</th>       <td>    0.0544</td> <td>    0.106</td> <td>    0.515</td> <td> 0.607</td> <td>   -0.153</td> <td>    0.262</td>\n",
              "</tr>\n",
              "<tr>\n",
              "  <th>V20</th>       <td>   -0.4094</td> <td>    0.106</td> <td>   -3.864</td> <td> 0.000</td> <td>   -0.617</td> <td>   -0.202</td>\n",
              "</tr>\n",
              "<tr>\n",
              "  <th>V21</th>       <td>    0.1701</td> <td>    0.054</td> <td>    3.123</td> <td> 0.002</td> <td>    0.063</td> <td>    0.277</td>\n",
              "</tr>\n",
              "<tr>\n",
              "  <th>V23</th>       <td>   -0.0580</td> <td>    0.061</td> <td>   -0.947</td> <td> 0.344</td> <td>   -0.178</td> <td>    0.062</td>\n",
              "</tr>\n",
              "<tr>\n",
              "  <th>V24</th>       <td>    0.2765</td> <td>    0.171</td> <td>    1.621</td> <td> 0.105</td> <td>   -0.058</td> <td>    0.611</td>\n",
              "</tr>\n",
              "<tr>\n",
              "  <th>V27</th>       <td>   -0.9471</td> <td>    0.164</td> <td>   -5.775</td> <td> 0.000</td> <td>   -1.269</td> <td>   -0.626</td>\n",
              "</tr>\n",
              "<tr>\n",
              "  <th>V28</th>       <td>   -0.4333</td> <td>    0.149</td> <td>   -2.909</td> <td> 0.004</td> <td>   -0.725</td> <td>   -0.141</td>\n",
              "</tr>\n",
              "<tr>\n",
              "  <th>Amount</th>    <td>    0.0013</td> <td>    0.000</td> <td>    2.797</td> <td> 0.005</td> <td>    0.000</td> <td>    0.002</td>\n",
              "</tr>\n",
              "</table><br/><br/>Possibly complete quasi-separation: A fraction 0.24 of observations can be<br/>perfectly predicted. This might indicate that there is complete<br/>quasi-separation. In this case some parameters will not be identified."
            ],
            "text/plain": [
              "<class 'statsmodels.iolib.summary.Summary'>\n",
              "\"\"\"\n",
              "                           Logit Regression Results                           \n",
              "==============================================================================\n",
              "Dep. Variable:                  Class   No. Observations:               198736\n",
              "Model:                          Logit   Df Residuals:                   198710\n",
              "Method:                           MLE   Df Model:                           25\n",
              "Date:                Sat, 24 Oct 2020   Pseudo R-squ.:                  0.6938\n",
              "Time:                        17:31:04   Log-Likelihood:                -790.73\n",
              "converged:                       True   LL-Null:                       -2582.0\n",
              "Covariance Type:            nonrobust   LLR p-value:                     0.000\n",
              "==============================================================================\n",
              "                 coef    std err          z      P>|z|      [0.025      0.975]\n",
              "------------------------------------------------------------------------------\n",
              "Intercept     -8.5744      0.279    -30.757      0.000      -9.121      -8.028\n",
              "Time       -2.694e-07   2.41e-06     -0.112      0.911      -5e-06    4.46e-06\n",
              "V1             0.1193      0.050      2.380      0.017       0.021       0.218\n",
              "V2             0.0155      0.064      0.245      0.807      -0.109       0.140\n",
              "V3             0.0465      0.062      0.747      0.455      -0.075       0.168\n",
              "V4             0.6662      0.083      8.038      0.000       0.504       0.829\n",
              "V5             0.1340      0.073      1.836      0.066      -0.009       0.277\n",
              "V6            -0.1045      0.080     -1.312      0.190      -0.261       0.052\n",
              "V7            -0.1018      0.077     -1.327      0.185      -0.252       0.049\n",
              "V8            -0.2185      0.039     -5.653      0.000      -0.294      -0.143\n",
              "V9            -0.2826      0.122     -2.323      0.020      -0.521      -0.044\n",
              "V10           -0.7896      0.115     -6.869      0.000      -1.015      -0.564\n",
              "V11            0.0283      0.096      0.295      0.768      -0.160       0.216\n",
              "V12            0.0433      0.098      0.442      0.659      -0.149       0.235\n",
              "V14           -0.5573      0.074     -7.522      0.000      -0.703      -0.412\n",
              "V16           -0.2578      0.129     -1.993      0.046      -0.511      -0.004\n",
              "V17           -0.1284      0.081     -1.583      0.113      -0.287       0.031\n",
              "V18            0.0535      0.139      0.385      0.701      -0.219       0.326\n",
              "V19            0.0544      0.106      0.515      0.607      -0.153       0.262\n",
              "V20           -0.4094      0.106     -3.864      0.000      -0.617      -0.202\n",
              "V21            0.1701      0.054      3.123      0.002       0.063       0.277\n",
              "V23           -0.0580      0.061     -0.947      0.344      -0.178       0.062\n",
              "V24            0.2765      0.171      1.621      0.105      -0.058       0.611\n",
              "V27           -0.9471      0.164     -5.775      0.000      -1.269      -0.626\n",
              "V28           -0.4333      0.149     -2.909      0.004      -0.725      -0.141\n",
              "Amount         0.0013      0.000      2.797      0.005       0.000       0.002\n",
              "==============================================================================\n",
              "\n",
              "Possibly complete quasi-separation: A fraction 0.24 of observations can be\n",
              "perfectly predicted. This might indicate that there is complete\n",
              "quasi-separation. In this case some parameters will not be identified.\n",
              "\"\"\""
            ]
          },
          "metadata": {
            "tags": []
          },
          "execution_count": 34
        }
      ]
    },
    {
      "cell_type": "markdown",
      "metadata": {
        "id": "_RvocWsEsB2_"
      },
      "source": [
        "From Above summary of the logistic model shows that the P values for some of the features are too big and their coefficient is too small, so they are not influential and can be pruned\n",
        "\n",
        "So will run a prune model for the logistic regression"
      ]
    },
    {
      "cell_type": "code",
      "metadata": {
        "id": "knRgvF3jrBnI"
      },
      "source": [
        "# function to prune the model with unnecessary features\n",
        "def prune_models_logit(dataframe, response_col_name):\n",
        "\n",
        "  ## Define the first part of our formula string \n",
        "  init_formula_string = response_col_name + \" ~ \"\n",
        "    \n",
        "    ### Assign cols_no_response to the list of the dataframe columns\n",
        "  cols_no_response = dataframe.columns.tolist()\n",
        "    ### <Remove> the response column name\n",
        "  cols_no_response.remove(response_col_name)\n",
        "    ### <Join> the string (using ' + ') as the join seperator\n",
        "  rest_of_formula_string = \" + \".join(cols_no_response)\n",
        "    \n",
        "    ## Concat the two strings together (in a new variable) to obtain our full formula string \n",
        "  formula_string = init_formula_string + rest_of_formula_string\n",
        "\n",
        "    ## Fit the initial model variation \n",
        "  model_init = smf.ols(formula_string, data=dataframe).fit()\n",
        "    \n",
        "    ## Assign a p-values variable \n",
        "  pvalues = model_init.pvalues\n",
        "    \n",
        "    ## Find the variable with the highest p-value \n",
        "  max_p = pvalues.idxmax()\n",
        "    \n",
        "    ## alpha threshhold at 0.05 \n",
        "  alpha = 0.05\n",
        "    \n",
        "\n",
        "    # <While> loop over our p-values with the condition that the max value is above our alpha threshold \n",
        "    # Identify the variable with the maximum p-value \n",
        "    # Drop this variable from our cols_no_response list \n",
        "    # Create a new formula string \n",
        "    # Fit the new model \n",
        "    # Re-declare our p-values variable \n",
        "    # <Drop> the Intercept attribute \n",
        "    # Once our while loop breaks, return the model \n",
        "\n",
        "    \n",
        "  while pvalues.max() > alpha:\n",
        "\n",
        "    max_p = pvalues.idxmax()\n",
        "    cols_no_response.remove(max_p)\n",
        "    \n",
        "    rest_of_formula_string = \" + \".join(cols_no_response)\n",
        "    formula_string = init_formula_string + rest_of_formula_string\n",
        "        \n",
        "    model = smf.logit(formula_string, data=dataframe).fit()\n",
        "    pvalues = model.pvalues\n",
        "    pvalues = pvalues.drop(\"Intercept\")\n",
        "        \n",
        "  return model, cols_no_response"
      ],
      "execution_count": 21,
      "outputs": []
    },
    {
      "cell_type": "code",
      "metadata": {
        "id": "T3rbk-ZxrTch",
        "outputId": "4f22d2bc-560f-49c1-90e2-65a9c74e8685",
        "colab": {
          "base_uri": "https://localhost:8080/",
          "height": 1000
        }
      },
      "source": [
        "model_with_pruned_df, columns_with_correlation_LR = prune_models_logit(cc_train_df, \"Class\")\n",
        "print(columns_with_correlation_LR)\n",
        "model_with_pruned_df.summary()"
      ],
      "execution_count": 22,
      "outputs": [
        {
          "output_type": "stream",
          "text": [
            "Optimization terminated successfully.\n",
            "         Current function value: 0.003913\n",
            "         Iterations 13\n",
            "Optimization terminated successfully.\n",
            "         Current function value: 0.003913\n",
            "         Iterations 13\n",
            "Optimization terminated successfully.\n",
            "         Current function value: 0.003913\n",
            "         Iterations 13\n",
            "Optimization terminated successfully.\n",
            "         Current function value: 0.003913\n",
            "         Iterations 13\n",
            "Optimization terminated successfully.\n",
            "         Current function value: 0.003914\n",
            "         Iterations 13\n",
            "Optimization terminated successfully.\n",
            "         Current function value: 0.003914\n",
            "         Iterations 13\n",
            "Optimization terminated successfully.\n",
            "         Current function value: 0.003916\n",
            "         Iterations 13\n",
            "Optimization terminated successfully.\n",
            "         Current function value: 0.003917\n",
            "         Iterations 13\n",
            "Optimization terminated successfully.\n",
            "         Current function value: 0.003922\n",
            "         Iterations 13\n",
            "Optimization terminated successfully.\n",
            "         Current function value: 0.003927\n",
            "         Iterations 13\n",
            "Optimization terminated successfully.\n",
            "         Current function value: 0.003931\n",
            "         Iterations 13\n",
            "Optimization terminated successfully.\n",
            "         Current function value: 0.003936\n",
            "         Iterations 13\n",
            "Optimization terminated successfully.\n",
            "         Current function value: 0.003943\n",
            "         Iterations 13\n",
            "['V1', 'V4', 'V5', 'V7', 'V8', 'V9', 'V10', 'V13', 'V14', 'V16', 'V20', 'V21', 'V22', 'V24', 'V27', 'V28', 'Amount']\n"
          ],
          "name": "stdout"
        },
        {
          "output_type": "execute_result",
          "data": {
            "text/html": [
              "<table class=\"simpletable\">\n",
              "<caption>Logit Regression Results</caption>\n",
              "<tr>\n",
              "  <th>Dep. Variable:</th>         <td>Class</td>      <th>  No. Observations:  </th>  <td>198736</td> \n",
              "</tr>\n",
              "<tr>\n",
              "  <th>Model:</th>                 <td>Logit</td>      <th>  Df Residuals:      </th>  <td>198718</td> \n",
              "</tr>\n",
              "<tr>\n",
              "  <th>Method:</th>                 <td>MLE</td>       <th>  Df Model:          </th>  <td>    17</td> \n",
              "</tr>\n",
              "<tr>\n",
              "  <th>Date:</th>            <td>Sun, 25 Oct 2020</td> <th>  Pseudo R-squ.:     </th>  <td>0.6965</td> \n",
              "</tr>\n",
              "<tr>\n",
              "  <th>Time:</th>                <td>22:17:18</td>     <th>  Log-Likelihood:    </th> <td> -783.53</td>\n",
              "</tr>\n",
              "<tr>\n",
              "  <th>converged:</th>             <td>True</td>       <th>  LL-Null:           </th> <td> -2582.0</td>\n",
              "</tr>\n",
              "<tr>\n",
              "  <th>Covariance Type:</th>     <td>nonrobust</td>    <th>  LLR p-value:       </th>  <td> 0.000</td> \n",
              "</tr>\n",
              "</table>\n",
              "<table class=\"simpletable\">\n",
              "<tr>\n",
              "      <td></td>         <th>coef</th>     <th>std err</th>      <th>z</th>      <th>P>|z|</th>  <th>[0.025</th>    <th>0.975]</th>  \n",
              "</tr>\n",
              "<tr>\n",
              "  <th>Intercept</th> <td>   -8.7244</td> <td>    0.158</td> <td>  -55.228</td> <td> 0.000</td> <td>   -9.034</td> <td>   -8.415</td>\n",
              "</tr>\n",
              "<tr>\n",
              "  <th>V1</th>        <td>    0.1115</td> <td>    0.045</td> <td>    2.488</td> <td> 0.013</td> <td>    0.024</td> <td>    0.199</td>\n",
              "</tr>\n",
              "<tr>\n",
              "  <th>V4</th>        <td>    0.6223</td> <td>    0.072</td> <td>    8.664</td> <td> 0.000</td> <td>    0.482</td> <td>    0.763</td>\n",
              "</tr>\n",
              "<tr>\n",
              "  <th>V5</th>        <td>    0.1577</td> <td>    0.040</td> <td>    3.990</td> <td> 0.000</td> <td>    0.080</td> <td>    0.235</td>\n",
              "</tr>\n",
              "<tr>\n",
              "  <th>V7</th>        <td>   -0.1808</td> <td>    0.067</td> <td>   -2.705</td> <td> 0.007</td> <td>   -0.312</td> <td>   -0.050</td>\n",
              "</tr>\n",
              "<tr>\n",
              "  <th>V8</th>        <td>   -0.1669</td> <td>    0.030</td> <td>   -5.626</td> <td> 0.000</td> <td>   -0.225</td> <td>   -0.109</td>\n",
              "</tr>\n",
              "<tr>\n",
              "  <th>V9</th>        <td>   -0.2862</td> <td>    0.101</td> <td>   -2.841</td> <td> 0.004</td> <td>   -0.484</td> <td>   -0.089</td>\n",
              "</tr>\n",
              "<tr>\n",
              "  <th>V10</th>       <td>   -0.7212</td> <td>    0.103</td> <td>   -7.020</td> <td> 0.000</td> <td>   -0.923</td> <td>   -0.520</td>\n",
              "</tr>\n",
              "<tr>\n",
              "  <th>V13</th>       <td>   -0.2932</td> <td>    0.095</td> <td>   -3.077</td> <td> 0.002</td> <td>   -0.480</td> <td>   -0.106</td>\n",
              "</tr>\n",
              "<tr>\n",
              "  <th>V14</th>       <td>   -0.6106</td> <td>    0.064</td> <td>   -9.522</td> <td> 0.000</td> <td>   -0.736</td> <td>   -0.485</td>\n",
              "</tr>\n",
              "<tr>\n",
              "  <th>V16</th>       <td>   -0.3023</td> <td>    0.073</td> <td>   -4.161</td> <td> 0.000</td> <td>   -0.445</td> <td>   -0.160</td>\n",
              "</tr>\n",
              "<tr>\n",
              "  <th>V20</th>       <td>   -0.4528</td> <td>    0.089</td> <td>   -5.070</td> <td> 0.000</td> <td>   -0.628</td> <td>   -0.278</td>\n",
              "</tr>\n",
              "<tr>\n",
              "  <th>V21</th>       <td>    0.3080</td> <td>    0.064</td> <td>    4.778</td> <td> 0.000</td> <td>    0.182</td> <td>    0.434</td>\n",
              "</tr>\n",
              "<tr>\n",
              "  <th>V22</th>       <td>    0.5206</td> <td>    0.144</td> <td>    3.624</td> <td> 0.000</td> <td>    0.239</td> <td>    0.802</td>\n",
              "</tr>\n",
              "<tr>\n",
              "  <th>V24</th>       <td>    0.3892</td> <td>    0.163</td> <td>    2.395</td> <td> 0.017</td> <td>    0.071</td> <td>    0.708</td>\n",
              "</tr>\n",
              "<tr>\n",
              "  <th>V27</th>       <td>   -0.8868</td> <td>    0.144</td> <td>   -6.146</td> <td> 0.000</td> <td>   -1.170</td> <td>   -0.604</td>\n",
              "</tr>\n",
              "<tr>\n",
              "  <th>V28</th>       <td>   -0.4709</td> <td>    0.157</td> <td>   -2.995</td> <td> 0.003</td> <td>   -0.779</td> <td>   -0.163</td>\n",
              "</tr>\n",
              "<tr>\n",
              "  <th>Amount</th>    <td>    0.0016</td> <td>    0.000</td> <td>    4.104</td> <td> 0.000</td> <td>    0.001</td> <td>    0.002</td>\n",
              "</tr>\n",
              "</table><br/><br/>Possibly complete quasi-separation: A fraction 0.29 of observations can be<br/>perfectly predicted. This might indicate that there is complete<br/>quasi-separation. In this case some parameters will not be identified."
            ],
            "text/plain": [
              "<class 'statsmodels.iolib.summary.Summary'>\n",
              "\"\"\"\n",
              "                           Logit Regression Results                           \n",
              "==============================================================================\n",
              "Dep. Variable:                  Class   No. Observations:               198736\n",
              "Model:                          Logit   Df Residuals:                   198718\n",
              "Method:                           MLE   Df Model:                           17\n",
              "Date:                Sun, 25 Oct 2020   Pseudo R-squ.:                  0.6965\n",
              "Time:                        22:17:18   Log-Likelihood:                -783.53\n",
              "converged:                       True   LL-Null:                       -2582.0\n",
              "Covariance Type:            nonrobust   LLR p-value:                     0.000\n",
              "==============================================================================\n",
              "                 coef    std err          z      P>|z|      [0.025      0.975]\n",
              "------------------------------------------------------------------------------\n",
              "Intercept     -8.7244      0.158    -55.228      0.000      -9.034      -8.415\n",
              "V1             0.1115      0.045      2.488      0.013       0.024       0.199\n",
              "V4             0.6223      0.072      8.664      0.000       0.482       0.763\n",
              "V5             0.1577      0.040      3.990      0.000       0.080       0.235\n",
              "V7            -0.1808      0.067     -2.705      0.007      -0.312      -0.050\n",
              "V8            -0.1669      0.030     -5.626      0.000      -0.225      -0.109\n",
              "V9            -0.2862      0.101     -2.841      0.004      -0.484      -0.089\n",
              "V10           -0.7212      0.103     -7.020      0.000      -0.923      -0.520\n",
              "V13           -0.2932      0.095     -3.077      0.002      -0.480      -0.106\n",
              "V14           -0.6106      0.064     -9.522      0.000      -0.736      -0.485\n",
              "V16           -0.3023      0.073     -4.161      0.000      -0.445      -0.160\n",
              "V20           -0.4528      0.089     -5.070      0.000      -0.628      -0.278\n",
              "V21            0.3080      0.064      4.778      0.000       0.182       0.434\n",
              "V22            0.5206      0.144      3.624      0.000       0.239       0.802\n",
              "V24            0.3892      0.163      2.395      0.017       0.071       0.708\n",
              "V27           -0.8868      0.144     -6.146      0.000      -1.170      -0.604\n",
              "V28           -0.4709      0.157     -2.995      0.003      -0.779      -0.163\n",
              "Amount         0.0016      0.000      4.104      0.000       0.001       0.002\n",
              "==============================================================================\n",
              "\n",
              "Possibly complete quasi-separation: A fraction 0.29 of observations can be\n",
              "perfectly predicted. This might indicate that there is complete\n",
              "quasi-separation. In this case some parameters will not be identified.\n",
              "\"\"\""
            ]
          },
          "metadata": {
            "tags": []
          },
          "execution_count": 22
        }
      ]
    },
    {
      "cell_type": "markdown",
      "metadata": {
        "id": "xpEQrVCisVdq"
      },
      "source": [
        "The pruning of the feature has improved slightly the pseudo r square and now all the feature columns have the P value smaller than 0.05 as required."
      ]
    },
    {
      "cell_type": "code",
      "metadata": {
        "id": "nr23w8imz4Yo"
      },
      "source": [
        "# Final dataset with only the required comlumns\n",
        "\n",
        "columns_final_dataset = columns_with_correlation_LR + [\"Class\"]\n",
        "\n",
        "train_df_final = cc_train_df [columns_final_dataset]\n",
        "test_df_final = cc_test_df [columns_final_dataset]"
      ],
      "execution_count": 23,
      "outputs": []
    },
    {
      "cell_type": "code",
      "metadata": {
        "id": "_0ltXbah1Sw3"
      },
      "source": [
        "# dataset saved with pickle in the google drive\n",
        "\n",
        "pickle.dump(train_df_final, open(\"/content/drive/My Drive/Colab Notebooks/train_df_final.pkl\", \"wb\"))\n",
        "pickle.dump(test_df_final, open(\"/content/drive/My Drive/Colab Notebooks/test_df_final.pkl\", \"wb\"))\n",
        "\n"
      ],
      "execution_count": null,
      "outputs": []
    },
    {
      "cell_type": "markdown",
      "metadata": {
        "id": "FzbMl6OJvMAk"
      },
      "source": [
        "### Top Most Influential variables\n",
        "\n",
        "To check the influential variables:\n",
        "1. First will calculate the R squared with all the above found columns as base model\n",
        "2. After for each of the column i will take them out one by one from the model and calculate the R squared\n",
        "3. The differenz between the base model and the each model without the particular feature will be their contribution to the R squared"
      ]
    },
    {
      "cell_type": "code",
      "metadata": {
        "id": "DwG_isySwIHe"
      },
      "source": [
        "# define the function as described above \n",
        "\n",
        "def most_influential_var(dataframe, response_col_name, features):\n",
        "\n",
        "  categorical_data = []\n",
        "\n",
        "  formula_string_trans = build_formula_string(response_col_name, categorical_data, features)\n",
        "  model_init = smf.logit(formula_string_trans, data=dataframe).fit()\n",
        "  rsquared_model = model_init.prsquared\n",
        "\n",
        "  rsquared =  []\n",
        "\n",
        "  for i, col in enumerate(features):\n",
        "\n",
        "    columns = [var for var in features if var not in col]\n",
        "    formula_string_trans = build_formula_string(response_col_name, categorical_data, columns)\n",
        "    model = smf.logit(formula_string_trans, data=dataframe).fit()\n",
        "    rsquared_dif= rsquared_model - model.prsquared\n",
        "    rsquared.append([col, rsquared_dif])\n",
        "      \n",
        "  return rsquared\n",
        "  "
      ],
      "execution_count": 33,
      "outputs": []
    },
    {
      "cell_type": "code",
      "metadata": {
        "id": "rh-QGmaUz_4m",
        "outputId": "af005f6a-a237-4923-ae22-fdeccadd6113",
        "colab": {
          "base_uri": "https://localhost:8080/",
          "height": 999
        }
      },
      "source": [
        "# run the function and the output is an array of feature and their respective R squared contribution\n",
        "influential_features = most_influential_var(train_df_final, \"Class\", columns_with_correlation_LR)"
      ],
      "execution_count": 34,
      "outputs": [
        {
          "output_type": "stream",
          "text": [
            "Optimization terminated successfully.\n",
            "         Current function value: 0.003943\n",
            "         Iterations 13\n",
            "Optimization terminated successfully.\n",
            "         Current function value: 0.003959\n",
            "         Iterations 13\n",
            "Optimization terminated successfully.\n",
            "         Current function value: 0.004162\n",
            "         Iterations 12\n",
            "Optimization terminated successfully.\n",
            "         Current function value: 0.003975\n",
            "         Iterations 13\n",
            "Optimization terminated successfully.\n",
            "         Current function value: 0.003959\n",
            "         Iterations 13\n",
            "Optimization terminated successfully.\n",
            "         Current function value: 0.003995\n",
            "         Iterations 13\n",
            "Optimization terminated successfully.\n",
            "         Current function value: 0.003963\n",
            "         Iterations 13\n",
            "Optimization terminated successfully.\n",
            "         Current function value: 0.004087\n",
            "         Iterations 12\n",
            "Optimization terminated successfully.\n",
            "         Current function value: 0.003987\n",
            "         Iterations 13\n",
            "Optimization terminated successfully.\n",
            "         Current function value: 0.004223\n",
            "         Iterations 13\n",
            "Optimization terminated successfully.\n",
            "         Current function value: 0.004011\n",
            "         Iterations 13\n",
            "Optimization terminated successfully.\n",
            "         Current function value: 0.003998\n",
            "         Iterations 13\n",
            "Optimization terminated successfully.\n",
            "         Current function value: 0.003994\n",
            "         Iterations 13\n",
            "Optimization terminated successfully.\n",
            "         Current function value: 0.003977\n",
            "         Iterations 13\n",
            "Optimization terminated successfully.\n",
            "         Current function value: 0.003958\n",
            "         Iterations 13\n",
            "Optimization terminated successfully.\n",
            "         Current function value: 0.004013\n",
            "         Iterations 12\n",
            "Optimization terminated successfully.\n",
            "         Current function value: 0.003972\n",
            "         Iterations 13\n",
            "Optimization terminated successfully.\n",
            "         Current function value: 0.003976\n",
            "         Iterations 13\n"
          ],
          "name": "stdout"
        }
      ]
    },
    {
      "cell_type": "code",
      "metadata": {
        "id": "ymytOHnh4_eB",
        "outputId": "e1f340bc-2b7a-4fa9-ad8d-8f17fb786bcc",
        "colab": {
          "base_uri": "https://localhost:8080/",
          "height": 288
        }
      },
      "source": [
        "# Converted the array to the dataframe to easily sort and show the fitrst 8 with the highest contribution\n",
        "df = pd.DataFrame(influential_features, columns=['Features', 'R Squared Contribution',])\n",
        "df.sort_values(by='R Squared Contribution', ascending=False).head(8)"
      ],
      "execution_count": 41,
      "outputs": [
        {
          "output_type": "execute_result",
          "data": {
            "text/html": [
              "<div>\n",
              "<style scoped>\n",
              "    .dataframe tbody tr th:only-of-type {\n",
              "        vertical-align: middle;\n",
              "    }\n",
              "\n",
              "    .dataframe tbody tr th {\n",
              "        vertical-align: top;\n",
              "    }\n",
              "\n",
              "    .dataframe thead th {\n",
              "        text-align: right;\n",
              "    }\n",
              "</style>\n",
              "<table border=\"1\" class=\"dataframe\">\n",
              "  <thead>\n",
              "    <tr style=\"text-align: right;\">\n",
              "      <th></th>\n",
              "      <th>Features</th>\n",
              "      <th>R Squared Contribution</th>\n",
              "    </tr>\n",
              "  </thead>\n",
              "  <tbody>\n",
              "    <tr>\n",
              "      <th>8</th>\n",
              "      <td>V14</td>\n",
              "      <td>0.021618</td>\n",
              "    </tr>\n",
              "    <tr>\n",
              "      <th>1</th>\n",
              "      <td>V4</td>\n",
              "      <td>0.016923</td>\n",
              "    </tr>\n",
              "    <tr>\n",
              "      <th>6</th>\n",
              "      <td>V10</td>\n",
              "      <td>0.011148</td>\n",
              "    </tr>\n",
              "    <tr>\n",
              "      <th>14</th>\n",
              "      <td>V27</td>\n",
              "      <td>0.005416</td>\n",
              "    </tr>\n",
              "    <tr>\n",
              "      <th>9</th>\n",
              "      <td>V16</td>\n",
              "      <td>0.005305</td>\n",
              "    </tr>\n",
              "    <tr>\n",
              "      <th>10</th>\n",
              "      <td>V20</td>\n",
              "      <td>0.004246</td>\n",
              "    </tr>\n",
              "    <tr>\n",
              "      <th>4</th>\n",
              "      <td>V8</td>\n",
              "      <td>0.004013</td>\n",
              "    </tr>\n",
              "    <tr>\n",
              "      <th>11</th>\n",
              "      <td>V21</td>\n",
              "      <td>0.003956</td>\n",
              "    </tr>\n",
              "  </tbody>\n",
              "</table>\n",
              "</div>"
            ],
            "text/plain": [
              "   Features  R Squared Contribution\n",
              "8       V14                0.021618\n",
              "1        V4                0.016923\n",
              "6       V10                0.011148\n",
              "14      V27                0.005416\n",
              "9       V16                0.005305\n",
              "10      V20                0.004246\n",
              "4        V8                0.004013\n",
              "11      V21                0.003956"
            ]
          },
          "metadata": {
            "tags": []
          },
          "execution_count": 41
        }
      ]
    }
  ]
}