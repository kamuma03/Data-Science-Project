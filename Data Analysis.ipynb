{
  "nbformat": 4,
  "nbformat_minor": 0,
  "metadata": {
    "kernelspec": {
      "name": "python3",
      "display_name": "Python 3"
    },
    "colab": {
      "name": "Data Analysis.ipynb",
      "provenance": [],
      "toc_visible": true
    }
  },
  "cells": [
    {
      "cell_type": "markdown",
      "metadata": {
        "id": "LY1diH_0s_cD"
      },
      "source": [
        "# Fraud Detection Explorotary Data Analysis of the Dataset\n",
        "\n"
      ]
    },
    {
      "cell_type": "code",
      "metadata": {
        "id": "Ob8MhVmms_cE"
      },
      "source": [
        "# Import of all the required libraries\n",
        "\n",
        "import numpy as np\n",
        "import pandas as pd\n",
        "import matplotlib.pyplot as plt\n",
        "import missingno as msno\n",
        "from plotly.subplots import make_subplots\n",
        "import plotly.graph_objects as go\n",
        "import plotly.express as px"
      ],
      "execution_count": null,
      "outputs": []
    },
    {
      "cell_type": "markdown",
      "metadata": {
        "id": "3-Ry7EiTs_cK"
      },
      "source": [
        "## Import of Dataset\n",
        "\n",
        "Import of the datasets into Panda dataframe\n",
        "\n",
        "Initial modifications to add an ID and use it instead of the Time \n",
        "\n"
      ]
    },
    {
      "cell_type": "code",
      "metadata": {
        "id": "O2RxMqHnBqyX"
      },
      "source": [
        "from google.colab import drive\n",
        "drive.mount('/content/drive')"
      ],
      "execution_count": null,
      "outputs": []
    },
    {
      "cell_type": "code",
      "metadata": {
        "id": "rGY0LTIVs_cL"
      },
      "source": [
        "# Import of the train and test datasets into the Panda dataframe\n",
        "\n",
        "cc_test_df = pd.read_csv(\"/content/drive/My Drive/Colab Notebooks/creditcard_test.csv\")\n",
        "cc_train_df = pd.read_csv(\"/content/drive/My Drive/Colab Notebooks/creditcard_train.csv\")\n",
        "\n",
        "cc_test_df"
      ],
      "execution_count": null,
      "outputs": []
    },
    {
      "cell_type": "code",
      "metadata": {
        "tags": [],
        "id": "shMKcBLKs_cS"
      },
      "source": [
        "# Functiona to create a list to be used as ID for the data frame \n",
        "def id_create(df):\n",
        "    id = []\n",
        "    for i in range(df.shape[0]):\n",
        "        id.append(i+1)\n",
        "    return id\n",
        "\n",
        "# For the test data frame created an ID list and added to the data frame \n",
        "id_test = id_create(cc_test_df)\n",
        "cc_test_df[\"Id\"] = id_test\n",
        "cc_test_df.set_index(\"Id\", inplace=True)\n",
        "\n",
        "# For the train data frame created an ID list and added to the data frame \n",
        "id_train = id_create(cc_train_df)\n",
        "cc_train_df[\"Id\"] = id_train\n",
        "cc_train_df.set_index(\"Id\", inplace=True)\n",
        "\n"
      ],
      "execution_count": null,
      "outputs": []
    },
    {
      "cell_type": "markdown",
      "metadata": {
        "id": "wFuZ-LW7s_cW"
      },
      "source": [
        "## Check the missing value\n",
        "\n",
        "The dataframe information and description along with the missing label plots shows that there isn't any missing or NA value\n"
      ]
    },
    {
      "cell_type": "code",
      "metadata": {
        "id": "ebnBXc4Ps_cW"
      },
      "source": [
        "print(\"Dataframe information of the train dataset\")\n",
        "print(cc_train_df.info())\n",
        "print()\n",
        "print(\"Dataframe information of the test dataset\")\n",
        "print(cc_test_df.info())\n"
      ],
      "execution_count": null,
      "outputs": []
    },
    {
      "cell_type": "code",
      "metadata": {
        "id": "KufWkGlPs_ca"
      },
      "source": [
        "# Missing label plot for the train dataset\n",
        "msno.matrix(cc_train_df, labels=True)"
      ],
      "execution_count": null,
      "outputs": []
    },
    {
      "cell_type": "code",
      "metadata": {
        "id": "p2rMeK0Ms_cd"
      },
      "source": [
        "# Missing label plot for the test dataset\n",
        "msno.matrix(cc_test_df, labels=True)"
      ],
      "execution_count": null,
      "outputs": []
    },
    {
      "cell_type": "code",
      "metadata": {
        "id": "yvtBl8Fos_ck"
      },
      "source": [
        "print(\"Dataframe description of the train dataset\")\n",
        "print(cc_train_df.describe())\n",
        "print()\n",
        "print(\"Dataframe description of the test dataset\")\n",
        "print(cc_test_df.describe())\n"
      ],
      "execution_count": null,
      "outputs": []
    },
    {
      "cell_type": "markdown",
      "metadata": {
        "id": "p6nTgbi2s_cs"
      },
      "source": [
        "## Duplicate values\n",
        "\n",
        "\n"
      ]
    },
    {
      "cell_type": "code",
      "metadata": {
        "id": "BAWlxkDzs_ct"
      },
      "source": [
        "# Dupplicate in the train dataset\n",
        "print(\"Number of dupplicate in the training set \", cc_train_df.duplicated().sum())\n",
        "\n",
        "# Dupplicate in the test dataset\n",
        "print(\"Number of dupplicate in the test set \", cc_test_df.duplicated().sum())\n"
      ],
      "execution_count": null,
      "outputs": []
    },
    {
      "cell_type": "code",
      "metadata": {
        "id": "6RtuClcSs_c0"
      },
      "source": [
        "# Dropping the duplicate and keeping the first of the training  dataset\n",
        "cc_train_df.drop_duplicates(keep='first', inplace=True)\n"
      ],
      "execution_count": null,
      "outputs": []
    },
    {
      "cell_type": "code",
      "metadata": {
        "id": "F6TphZ8Ps_c5"
      },
      "source": [
        "# Dupplicate in the train dataset\n",
        "print(\"Number of dupplicate in the training set \", cc_train_df.duplicated().sum())\n",
        "\n",
        "# Dupplicate in the test dataset\n",
        "print(\"Number of dupplicate in the test set \", cc_test_df.duplicated().sum())"
      ],
      "execution_count": null,
      "outputs": []
    },
    {
      "cell_type": "markdown",
      "metadata": {
        "id": "Qdfurlpvs_c8"
      },
      "source": [
        "## Data type\n",
        "\n",
        "The Class column in data frame is of type float64\n",
        "It's value can be only 0 o 1, so this will be converted to the category type"
      ]
    },
    {
      "cell_type": "code",
      "metadata": {
        "id": "WJV8DvDQs_c8"
      },
      "source": [
        "# Conversion to a category type\n",
        "cc_train_df[\"Class\"] = cc_train_df[\"Class\"].astype(\"category\")\n",
        "cc_train_df[\"Class\"].describe()"
      ],
      "execution_count": null,
      "outputs": []
    },
    {
      "cell_type": "code",
      "metadata": {
        "id": "6v3zjJnts_dA"
      },
      "source": [
        "# Conversion to a category type\n",
        "cc_test_df[\"Class\"] = cc_test_df[\"Class\"].astype(\"category\")\n",
        "cc_test_df[\"Class\"].describe()"
      ],
      "execution_count": null,
      "outputs": []
    },
    {
      "cell_type": "markdown",
      "metadata": {
        "id": "hEBurZ78s_dF"
      },
      "source": [
        "## Datset Corelation\n",
        "\n",
        "Exploring the dataset correlation\n"
      ]
    },
    {
      "cell_type": "code",
      "metadata": {
        "id": "2E_vNrwLs_dG"
      },
      "source": [
        "# list of all the columns minus the \"Class\"\n",
        "columns = cc_test_df.columns.tolist()\n",
        "columns_to_remove = [\"Class\"]\n",
        "\n",
        "## Remove a list from another list\n",
        "columns = [var for var in columns if var not in columns_to_remove]\n",
        "columns"
      ],
      "execution_count": null,
      "outputs": []
    },
    {
      "cell_type": "code",
      "metadata": {
        "id": "xfEPrVH7vGyj"
      },
      "source": [
        "# Tried to run the below code to get the picture for all the features but it wouldn't show all the picture, tried VSCode and Jupyter notebook\n",
        "# So i will plot the each of the feature separately\n",
        "'''\n",
        "for i, cat in enumerate(columns):\n",
        "  fig = px.scatter(cc_train_df, x=cat, y=\"Class\")\n",
        "  fig.show()\n",
        "'''"
      ],
      "execution_count": null,
      "outputs": []
    },
    {
      "cell_type": "code",
      "metadata": {
        "id": "fulr83n2s_dK"
      },
      "source": [
        "# Function to plot the scatter plot and violin plot\n",
        "\n",
        "def plotting(x, y):\n",
        "    title = \"Scatter plot training set \" + x + \" vs \" + y\n",
        "    fig = px.scatter(cc_train_df, x=x, y=y, title=title)\n",
        "    fig.show()\n",
        "\n",
        "    title = \"Violin plot training set \" + x + \" vs \" + y\n",
        "    fig = px.violin(cc_train_df, y=y, x=x, box=True, title=title)\n",
        "    fig.update_layout(xaxis_type=\"category\", xaxis={'categoryorder':'mean ascending'})\n",
        "    fig.show()\n",
        "\n",
        "    title = \"Test set \" + x + \" vs \" + y\n",
        "    fig = px.scatter(cc_test_df, x=x, y=y, title=title)\n",
        "    fig.show()\n",
        "\n",
        "    title = \"Violin plot test set \" + x + \" vs \" + y\n",
        "    fig = px.violin(cc_test_df, y=y, x=x, box=True, title=title)\n",
        "    fig.update_layout(xaxis_type=\"category\", xaxis={'categoryorder':'mean ascending'})\n",
        "    fig.show()\n",
        "  \n",
        "  "
      ],
      "execution_count": null,
      "outputs": []
    },
    {
      "cell_type": "code",
      "metadata": {
        "id": "B3HDK859s_dP"
      },
      "source": [
        "# Correlation of the Time\n",
        "\n",
        "plotting(\"Class\", \"Time\")\n"
      ],
      "execution_count": null,
      "outputs": []
    },
    {
      "cell_type": "markdown",
      "metadata": {
        "id": "cA8qLadZvmPU"
      },
      "source": [
        "There is correlation Between V4 and the Classification of the Fraud detection based on the above graphs and data dispersion\n",
        "\n",
        "Outliers none"
      ]
    },
    {
      "cell_type": "code",
      "metadata": {
        "id": "3rQduW9jvoKr"
      },
      "source": [
        "# Correlation of the V1\n",
        "plotting(\"Class\", \"V1\")\n"
      ],
      "execution_count": null,
      "outputs": []
    },
    {
      "cell_type": "markdown",
      "metadata": {
        "id": "vRRt2RQ83HW0"
      },
      "source": [
        "There is correlation Between V1 and the Classification of the Fraud detection based on the above graphs and data dispersion\n",
        "\n",
        "Outliers below -40"
      ]
    },
    {
      "cell_type": "code",
      "metadata": {
        "id": "TYKg4BYM3XUn"
      },
      "source": [
        "# Correlation of the V2\n",
        "plotting(\"Class\", \"V2\")"
      ],
      "execution_count": null,
      "outputs": []
    },
    {
      "cell_type": "markdown",
      "metadata": {
        "id": "jjqzzZUy32O0"
      },
      "source": [
        "There is correlation Between V2 and the Classification of the Fraud detection based on the above graphs and data dispersion\n",
        "\n",
        "Outliers below -40"
      ]
    },
    {
      "cell_type": "code",
      "metadata": {
        "id": "Trm0XSvG4E_g"
      },
      "source": [
        "# Correlation of the V3\n",
        "plotting(\"Class\", \"V3\")"
      ],
      "execution_count": null,
      "outputs": []
    },
    {
      "cell_type": "markdown",
      "metadata": {
        "id": "jdV_iWxf4ad7"
      },
      "source": [
        "There is correlation Between V3 and the Classification of the Fraud detection based on the above graphs and data dispersion\n",
        "\n",
        "Outliers below -35"
      ]
    },
    {
      "cell_type": "code",
      "metadata": {
        "id": "_p_6-2BYBM2o"
      },
      "source": [
        "# Correlation of the V4\n",
        "plotting(\"Class\", \"V4\")"
      ],
      "execution_count": null,
      "outputs": []
    },
    {
      "cell_type": "markdown",
      "metadata": {
        "id": "4monqg6DBTSN"
      },
      "source": [
        "There is correlation Between V4 and the Classification of the Fraud detection based on the above graphs and data dispersion\n",
        "\n",
        "Outliers greater than 15"
      ]
    },
    {
      "cell_type": "code",
      "metadata": {
        "id": "BK0sNyLzCPqC"
      },
      "source": [
        "# Correlation of the V5\n",
        "plotting(\"Class\", \"V5\")"
      ],
      "execution_count": null,
      "outputs": []
    },
    {
      "cell_type": "markdown",
      "metadata": {
        "id": "lnpbLEwQDjtW"
      },
      "source": [
        "There is correlation Between V5 and the Classification of the Fraud detection based on the above graphs and data dispersion\n",
        "\n",
        "Outliers greater than 40 and less than 40"
      ]
    },
    {
      "cell_type": "code",
      "metadata": {
        "id": "Zbs1dagTCQ7V"
      },
      "source": [
        "# Correlation of the V6\n",
        "plotting(\"Class\", \"V6\")"
      ],
      "execution_count": null,
      "outputs": []
    },
    {
      "cell_type": "markdown",
      "metadata": {
        "id": "TZIuFq2MDr6R"
      },
      "source": [
        "There is correlation Between V6 and the Classification of the Fraud detection based on the above graphs and data dispersion\n",
        "\n",
        "\n",
        "Outliers greater than 25"
      ]
    },
    {
      "cell_type": "code",
      "metadata": {
        "id": "BqnMH_eECQel"
      },
      "source": [
        "# Correlation of the V7\n",
        "plotting(\"Class\", \"V7\")"
      ],
      "execution_count": null,
      "outputs": []
    },
    {
      "cell_type": "markdown",
      "metadata": {
        "id": "XYSgplfYDvev"
      },
      "source": [
        "There is correlation Between V7 and the Classification of the Fraud detection based on the above graphs and data dispersion\n",
        "\n",
        "Outliers greater than 60"
      ]
    },
    {
      "cell_type": "code",
      "metadata": {
        "id": "wkDxYJ_8CScN"
      },
      "source": [
        "# Correlation of the V8\n",
        "plotting(\"Class\", \"V8\")"
      ],
      "execution_count": null,
      "outputs": []
    },
    {
      "cell_type": "markdown",
      "metadata": {
        "id": "9HOwzHXYEYUr"
      },
      "source": [
        "There is correlation Between V4 and the Classification of the Fraud detection based on the above graphs and data dispersion\n",
        "\n",
        "Outliers none"
      ]
    },
    {
      "cell_type": "code",
      "metadata": {
        "id": "0umuddtsCTJj"
      },
      "source": [
        "# Correlation of the V9\n",
        "plotting(\"Class\", \"V9\")"
      ],
      "execution_count": null,
      "outputs": []
    },
    {
      "cell_type": "markdown",
      "metadata": {
        "id": "ZPpc4iYtE4m1"
      },
      "source": [
        "There is correlation Between V9 and the Classification of the Fraud detection based on the above graphs and data dispersion\n",
        "\n",
        "Outliers greater than 15"
      ]
    },
    {
      "cell_type": "code",
      "metadata": {
        "id": "YHMmMSPDCR4m"
      },
      "source": [
        "# Correlation of the V10\n",
        "plotting(\"Class\", \"V10\")"
      ],
      "execution_count": null,
      "outputs": []
    },
    {
      "cell_type": "markdown",
      "metadata": {
        "id": "KZj3jYjLE8Wf"
      },
      "source": [
        "There is correlation Between V10 and the Classification of the Fraud detection based on the above graphs and data dispersion\n",
        "\n",
        "Outliers greater than 20"
      ]
    },
    {
      "cell_type": "code",
      "metadata": {
        "id": "kqunYmW9CdMm"
      },
      "source": [
        "# Correlation of the V11\n",
        "plotting(\"Class\", \"V11\")"
      ],
      "execution_count": null,
      "outputs": []
    },
    {
      "cell_type": "markdown",
      "metadata": {
        "id": "-EgyfngjFKd7"
      },
      "source": [
        "There is correlation Between V11 and the Classification of the Fraud detection based on the above graphs and data dispersion\n",
        "\n",
        "Outliers none"
      ]
    },
    {
      "cell_type": "code",
      "metadata": {
        "id": "QNdkEv48CeoL"
      },
      "source": [
        "# Correlation of the V12\n",
        "plotting(\"Class\", \"V12\")"
      ],
      "execution_count": null,
      "outputs": []
    },
    {
      "cell_type": "markdown",
      "metadata": {
        "id": "CP7Z0YMXFQTb"
      },
      "source": [
        "There is correlation Between V12 and the Classification of the Fraud detection based on the above graphs and data dispersion\n",
        "\n",
        "Outliers none"
      ]
    },
    {
      "cell_type": "code",
      "metadata": {
        "id": "yCE4JXoyCffJ"
      },
      "source": [
        "# Correlation of the V13\n",
        "plotting(\"Class\", \"V13\")"
      ],
      "execution_count": null,
      "outputs": []
    },
    {
      "cell_type": "markdown",
      "metadata": {
        "id": "D0xQsNBwFWOM"
      },
      "source": [
        "There isn't any correlation Between V13 and the Classification of the Fraud detection based on the above graphs and data dispersion\n",
        "\n",
        "Outliers greater than 6"
      ]
    },
    {
      "cell_type": "code",
      "metadata": {
        "id": "bA9hsN4-CeLd"
      },
      "source": [
        "# Correlation of the V14\n",
        "plotting(\"Class\", \"V14\")"
      ],
      "execution_count": null,
      "outputs": []
    },
    {
      "cell_type": "markdown",
      "metadata": {
        "id": "hOhatum8FgYV"
      },
      "source": [
        "There is correlation Between V14 and the Classification of the Fraud detection based on the above graphs and data dispersion\n",
        "\n",
        "Outliers none"
      ]
    },
    {
      "cell_type": "code",
      "metadata": {
        "id": "TNpOdbMcCgiy"
      },
      "source": [
        "# Correlation of the V15\n",
        "plotting(\"Class\", \"V15\")"
      ],
      "execution_count": null,
      "outputs": []
    },
    {
      "cell_type": "markdown",
      "metadata": {
        "id": "MV32bSiSFk5s"
      },
      "source": [
        "There isn't correlation Between V15 and the Classification of the Fraud detection based on the above graphs and data dispersion\n",
        "\n",
        "Outliers greater than 6"
      ]
    },
    {
      "cell_type": "code",
      "metadata": {
        "id": "nSoEjdiaCgHu"
      },
      "source": [
        "# Correlation of the V16\n",
        "plotting(\"Class\", \"V16\")"
      ],
      "execution_count": null,
      "outputs": []
    },
    {
      "cell_type": "markdown",
      "metadata": {
        "id": "Bnmc_gOnFrcp"
      },
      "source": [
        "There is correlation Between V16 and the Classification of the Fraud detection based on the above graphs and data dispersion\n",
        "\n",
        "Outliers greater than 10"
      ]
    },
    {
      "cell_type": "code",
      "metadata": {
        "id": "thd6Sy2GChQ-"
      },
      "source": [
        "# Correlation of the V17\n",
        "plotting(\"Class\", \"V17\")"
      ],
      "execution_count": null,
      "outputs": []
    },
    {
      "cell_type": "markdown",
      "metadata": {
        "id": "eR_IylJfFvOm"
      },
      "source": [
        "There is correlation Between V17 and the Classification of the Fraud detection based on the above graphs and data dispersion\n",
        "\n",
        "Outliers none"
      ]
    },
    {
      "cell_type": "code",
      "metadata": {
        "id": "uq5SO8EzCiiP"
      },
      "source": [
        "# Correlation of the V18\n",
        "plotting(\"Class\", \"V18\")"
      ],
      "execution_count": null,
      "outputs": []
    },
    {
      "cell_type": "markdown",
      "metadata": {
        "id": "yfneyzIWFy5G"
      },
      "source": [
        "There is correlation Between V18 and the Classification of the Fraud detection based on the above graphs and data dispersion\n",
        "\n",
        "Outliers none"
      ]
    },
    {
      "cell_type": "code",
      "metadata": {
        "id": "aoGWlXj0CiCn"
      },
      "source": [
        "# Correlation of the V19\n",
        "plotting(\"Class\", \"V19\")"
      ],
      "execution_count": null,
      "outputs": []
    },
    {
      "cell_type": "markdown",
      "metadata": {
        "id": "HbpbXHVQF4cp"
      },
      "source": [
        "There is correlation Between V19 and the Classification of the Fraud detection based on the above graphs and data dispersion\n",
        "\n",
        "Outliers less than -6"
      ]
    },
    {
      "cell_type": "code",
      "metadata": {
        "id": "AFq-NU3jC7fa"
      },
      "source": [
        "# Correlation of the V20\n",
        "plotting(\"Class\", \"V20\")"
      ],
      "execution_count": null,
      "outputs": []
    },
    {
      "cell_type": "markdown",
      "metadata": {
        "id": "wRX2WZ7UGBe2"
      },
      "source": [
        "There is correlation Between V20 and the Classification of the Fraud detection based on the above graphs and data dispersion\n",
        "\n",
        "Outliers less than -40"
      ]
    },
    {
      "cell_type": "code",
      "metadata": {
        "id": "klWEer3-DCOR"
      },
      "source": [
        "# Correlation of the V21\n",
        "plotting(\"Class\", \"V21\")"
      ],
      "execution_count": null,
      "outputs": []
    },
    {
      "cell_type": "markdown",
      "metadata": {
        "id": "7P_kwf6FGHbu"
      },
      "source": [
        "There is correlation Between V21 and the Classification of the Fraud detection based on the above graphs and data dispersion\n",
        "\n",
        "Outliers greater than 20 and less than -20"
      ]
    },
    {
      "cell_type": "code",
      "metadata": {
        "id": "lwit1D9QDDqR"
      },
      "source": [
        "# Correlation of the V22\n",
        "plotting(\"Class\", \"V22\")"
      ],
      "execution_count": null,
      "outputs": []
    },
    {
      "cell_type": "markdown",
      "metadata": {
        "id": "YxYsHMa7GNJ_"
      },
      "source": [
        "There is correlation Between V22 and the Classification of the Fraud detection based on the above graphs and data dispersion\n",
        "\n",
        "Outliers greater than 10 and less than 10"
      ]
    },
    {
      "cell_type": "code",
      "metadata": {
        "id": "wZu1c60eDEwG"
      },
      "source": [
        "# Correlation of the V23\n",
        "plotting(\"Class\", \"V23\")"
      ],
      "execution_count": null,
      "outputs": []
    },
    {
      "cell_type": "markdown",
      "metadata": {
        "id": "_QzW6ENsGWhe"
      },
      "source": [
        "There is correlation Between V23 and the Classification of the Fraud detection based on the above graphs and data dispersion\n",
        "\n",
        "Outliers less than -40"
      ]
    },
    {
      "cell_type": "code",
      "metadata": {
        "id": "RjPABfZkDFdg"
      },
      "source": [
        "# Correlation of the V24\n",
        "plotting(\"Class\", \"V24\")"
      ],
      "execution_count": null,
      "outputs": []
    },
    {
      "cell_type": "markdown",
      "metadata": {
        "id": "qXtnYkuFHxb3"
      },
      "source": [
        "There is correlation Between V24 and the Classification of the Fraud detection based on the above graphs and data dispersion even though looks like is slight\n",
        "\n",
        "Outliers greater than 2.5"
      ]
    },
    {
      "cell_type": "code",
      "metadata": {
        "id": "kXCvbEf9DETb"
      },
      "source": [
        "# Correlation of the V25\n",
        "plotting(\"Class\", \"V25\")"
      ],
      "execution_count": null,
      "outputs": []
    },
    {
      "cell_type": "markdown",
      "metadata": {
        "id": "uBR2Sl9bIbo_"
      },
      "source": [
        "There is some correlation Between V25 and the Classification of the Fraud detection based on the above graphs and data dispersion even though is quite slight\n",
        "\n",
        "Outliers less than -10"
      ]
    },
    {
      "cell_type": "code",
      "metadata": {
        "id": "Ja9B2e21DDO3"
      },
      "source": [
        "# Correlation of the V26\n",
        "plotting(\"Class\", \"V26\")"
      ],
      "execution_count": null,
      "outputs": []
    },
    {
      "cell_type": "markdown",
      "metadata": {
        "id": "Gd4yvALUI4IX"
      },
      "source": [
        "There is correlation Between V26 and the Classification of the Fraud detection based on the above graphs and data dispersion\n",
        "\n",
        "Outliers less than -2"
      ]
    },
    {
      "cell_type": "code",
      "metadata": {
        "id": "SPW8X1B5DBhN"
      },
      "source": [
        "# Correlation of the V27\n",
        "plotting(\"Class\", \"V27\")"
      ],
      "execution_count": null,
      "outputs": []
    },
    {
      "cell_type": "markdown",
      "metadata": {
        "id": "jJHMCYDpJeO0"
      },
      "source": [
        "There is small correlation Between V27 and the Classification of the Fraud detection based on the above graphs and data dispersion\n",
        "\n",
        "Outliers greater tha 13 and less than -10"
      ]
    },
    {
      "cell_type": "code",
      "metadata": {
        "id": "keQViEy3DP32"
      },
      "source": [
        "# Correlation of the V28\n",
        "plotting(\"Class\", \"V28\")"
      ],
      "execution_count": null,
      "outputs": []
    },
    {
      "cell_type": "markdown",
      "metadata": {
        "id": "J2LFu5Z7KClk"
      },
      "source": [
        "There is correlation Between V28 and the Classification of the Fraud detection based on the above graphs and data dispersion\n",
        "\n",
        "Outliers greater than 20 less than -10"
      ]
    },
    {
      "cell_type": "code",
      "metadata": {
        "id": "pwex0xEzDTnS"
      },
      "source": [
        "# Correlation of the Amount\n",
        "plotting(\"Class\", \"Amount\")"
      ],
      "execution_count": null,
      "outputs": []
    },
    {
      "cell_type": "markdown",
      "metadata": {
        "id": "tR4gszgFKUyd"
      },
      "source": [
        "There is correlation Between Amount and the Classification of the Fraud detection based on the above graphs and data dispersion\n",
        "\n",
        "Outliers greater than 6000"
      ]
    },
    {
      "cell_type": "code",
      "metadata": {
        "id": "De5Ndz__nysV"
      },
      "source": [
        "## Remove the outliers\n",
        "vars_with_outliers_threshold_high = [(\"V4\", 15), (\"V5\", 40), (\"V6\", 25), (\"V7\", 60), (\"V9\", 15), (\"V10\", 20), (\"V13\", 6), (\"V15\", 6), (\"V16\", 10), (\"V20\", 27), (\"V21\", 20), (\"V22\", 10), (\"V24\", 25), (\"V27\", 13), (\"V28\", 20), (\"Amount\", 6000)]\n",
        "vars_with_outliers_threshold_low = [(\"V1\", -40), (\"V2\", -40), (\"V3\", -35), (\"V5\", -40), (\"V19\", -6), (\"V20\", -40), (\"V21\", -20), (\"V22\", -10), (\"V23\", -40), (\"V25\", -10), (\"V26\", -2), (\"V27\", -10), (\"V28\", -10)]\n",
        "\n",
        "for var_name, threshold in vars_with_outliers_threshold_high:\n",
        "    cc_train_df = cc_train_df[cc_train_df[var_name] < threshold]\n",
        "    \n",
        "cc_train_df\n",
        "\n",
        "for var_name, threshold in vars_with_outliers_threshold_low:\n",
        "    cc_train_df = cc_train_df[cc_train_df[var_name] > threshold]\n",
        "    \n",
        "cc_train_df"
      ],
      "execution_count": null,
      "outputs": []
    },
    {
      "cell_type": "code",
      "metadata": {
        "id": "SNoCRhh-q-qa"
      },
      "source": [
        "# Heatmap of the data correlation of training set\n",
        "\n",
        "fig = px.imshow(cc_train_df.corr(), title=\"Correlation heatmap of the features from the training set\")\n",
        "fig.update_layout(height=800)\n",
        "fig.show()"
      ],
      "execution_count": null,
      "outputs": []
    },
    {
      "cell_type": "code",
      "metadata": {
        "id": "kfci-QTvrVwr"
      },
      "source": [
        "# Heatmap of the data correlation of testing set\n",
        "\n",
        "fig = px.imshow(cc_test_df.corr(), title=\"Correlation heatmap of the features from the testing set\")\n",
        "fig.update_layout(height=800)\n",
        "fig.show()"
      ],
      "execution_count": null,
      "outputs": []
    }
  ]
}